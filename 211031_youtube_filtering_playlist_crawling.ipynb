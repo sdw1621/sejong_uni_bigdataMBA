{
  "nbformat": 4,
  "nbformat_minor": 5,
  "metadata": {
    "kernelspec": {
      "display_name": "Python 3",
      "language": "python",
      "name": "python3"
    },
    "language_info": {
      "codemirror_mode": {
        "name": "ipython",
        "version": 3
      },
      "file_extension": ".py",
      "mimetype": "text/x-python",
      "name": "python",
      "nbconvert_exporter": "python",
      "pygments_lexer": "ipython3",
      "version": "3.8.8"
    },
    "colab": {
      "name": "211031_youtube_filtering_playlist_crawling.ipynb",
      "provenance": [],
      "collapsed_sections": [],
      "include_colab_link": true
    }
  },
  "cells": [
    {
      "cell_type": "markdown",
      "metadata": {
        "id": "view-in-github",
        "colab_type": "text"
      },
      "source": [
        "<a href=\"https://colab.research.google.com/github/sdw1621/sejong_uni_bigdataMBA/blob/main/211031_youtube_filtering_playlist_crawling.ipynb\" target=\"_parent\"><img src=\"https://colab.research.google.com/assets/colab-badge.svg\" alt=\"Open In Colab\"/></a>"
      ]
    },
    {
      "cell_type": "markdown",
      "metadata": {
        "id": "be070f2c"
      },
      "source": [
        "### 참고 사이트 : \n",
        "https://kimcoder.tistory.com/170"
      ],
      "id": "be070f2c"
    },
    {
      "cell_type": "markdown",
      "metadata": {
        "id": "f6b250da"
      },
      "source": [
        "### 0. 크롤링 계획 세우기\n",
        "\n",
        "1. 필터로 업로드 날짜를 적용\n",
        "2. 업로드 날짜별로 잘 정렬되었는지 확인하기 위해 업로드 날짜별가 최신 순서로 위에서부터 콘솔창에 출력"
      ],
      "id": "f6b250da"
    },
    {
      "cell_type": "markdown",
      "metadata": {
        "id": "56a2e950"
      },
      "source": [
        "### 1. 크롤링할 페이지 접속\n",
        "\n",
        "youtube에 접속한다.\n",
        "\n",
        "https://www.youtube.com "
      ],
      "id": "56a2e950"
    },
    {
      "cell_type": "markdown",
      "metadata": {
        "id": "405bcee0"
      },
      "source": [
        "### 2. 크롤링 가능 여부 확인(필수)\n",
        "\n",
        "1. Youtube 메인 화면에서 돋보기 버튼을 누른 후 \"세종대학원\"입력하고 엔터\n",
        "2. 영상을 검색하면 url이 기존 youtube.com에서 youtube.com/results?search_query=\"세종대학원\"로 변경됨\n",
        "3. https://www.youtube.com/robots.txt 을 입력하면 Disallow: /results가 있다.\n",
        "\n",
        "https://img1.daumcdn.net/thumb/R1280x0/?scode=mtistory2&fname=https%3A%2F%2Fblog.kakaocdn.net%2Fdn%2FAdaHS%2FbtqMqdrDeGd%2F1UKNbafvkKYEin2Twmc2Lk%2Fimg.png"
      ],
      "id": "405bcee0"
    },
    {
      "cell_type": "markdown",
      "metadata": {
        "id": "84546c5a"
      },
      "source": [
        "### 3. 검색할 키워드 입력창\n",
        "\n",
        "1. 개발자 도구 - 선택자를 클릭하고\n",
        "2. 검색할 키워드를 입력할 수 있는 input xpath 가져오기\n",
        "\n",
        "https://img1.daumcdn.net/thumb/R1280x0/?scode=mtistory2&fname=https%3A%2F%2Fblog.kakaocdn.net%2Fdn%2FyxN7D%2FbtqMmpftKqR%2FDUfDsyeAAi0n6dAIf1trc1%2Fimg.png"
      ],
      "id": "84546c5a"
    },
    {
      "cell_type": "markdown",
      "metadata": {
        "id": "d9b2736a"
      },
      "source": [
        "### 4. 크롤링할 대상 결정\n",
        "\n",
        "1. 필터 아이콘을 누르면 이렇게 27종류의 필터 옵션들이 나온다.\n",
        "2. 필터 아이콘을 눌러도 url은 바뀌지 않는다.\n",
        "3. 우리는 정렬 기준 영역에 업로드 날짜를 클릭하여 최신(내림차순)된 동영상의 제목을 추출해볼 예정이다."
      ],
      "id": "d9b2736a"
    },
    {
      "cell_type": "markdown",
      "metadata": {
        "id": "37af0aff"
      },
      "source": [
        "### 5. 크롤링할 데이터가 있는 태그 파악\n",
        "\n",
        "* 개발자 도구 - 선택자를 클릭하고 필터 아이콘 클릭\n",
        "\n",
        "Copy - copy Xpath : '//*[@id=\"container\"]/ytd-toggle-button-renderer/a'\n",
        "\n",
        "https://img1.daumcdn.net/thumb/R1280x0/?scode=mtistory2&fname=https%3A%2F%2Fblog.kakaocdn.net%2Fdn%2FboqE4h%2FbtqMknPIbC7%2FABWTqKxIDwYX47rb1UZzTk%2Fimg.png"
      ],
      "id": "37af0aff"
    },
    {
      "cell_type": "markdown",
      "metadata": {
        "id": "0e8f23e5"
      },
      "source": [
        "- 업로드 날짜\n",
        "\n",
        "'//*[@id=\"endpoint\"]'"
      ],
      "id": "0e8f23e5"
    },
    {
      "cell_type": "markdown",
      "metadata": {
        "id": "e322912e"
      },
      "source": [
        "- 조회수\n",
        "\n",
        "https://img1.daumcdn.net/thumb/R1280x0/?scode=mtistory2&fname=https%3A%2F%2Fblog.kakaocdn.net%2Fdn%2FbdjKCf%2FbtqMgsEh0tn%2FVg7J0T2YpbXf38h5s1EAP1%2Fimg.png"
      ],
      "id": "e322912e"
    },
    {
      "cell_type": "markdown",
      "metadata": {
        "id": "6e9a7c6e"
      },
      "source": [
        "* 조회수 정보\n",
        "\n",
        "https://img1.daumcdn.net/thumb/R1280x0/?scode=mtistory2&fname=https%3A%2F%2Fblog.kakaocdn.net%2Fdn%2FcXMNw7%2FbtqMmpT0OZr%2FICBfzka55VpWfdPP2LIdx0%2Fimg.png"
      ],
      "id": "6e9a7c6e"
    },
    {
      "cell_type": "markdown",
      "metadata": {
        "id": "bda4df93"
      },
      "source": [
        "### 5. 태그 규칙 파악"
      ],
      "id": "bda4df93"
    },
    {
      "cell_type": "markdown",
      "metadata": {
        "id": "17882431"
      },
      "source": [
        "### 크롬 브라우저 - 개발자 도구 - Copy -> Copy Xpath로 복사\n",
        "\n",
        "* name, tag, id, class 외에도 xpath로 요소를 찾을 수도 있다.\n",
        "\n",
        "\n",
        "\n",
        "\n",
        "* <b> 필터 토글 버튼 : </b>\n",
        "\n",
        "\n",
        "https://img1.daumcdn.net/thumb/R1280x0/?scode=mtistory2&fname=https%3A%2F%2Fblog.kakaocdn.net%2Fdn%2FzxwmE%2FbtqMiZuNe9u%2F09DOL4OUXlsVWCkbzI2sm0%2Fimg.png"
      ],
      "id": "17882431"
    },
    {
      "cell_type": "markdown",
      "metadata": {
        "id": "b93a364a"
      },
      "source": [
        "필터 옵션 : \n",
        "\n",
        "두 필터 옵션은 id가 collapse-content인 요소에서 \n",
        "각각 4번째 <ytd-search-group-renderer> 태그 안에 있는 / 5번째 <ytd-search-filter-renderer> 와, 5번째 <ytd-search-group-renderer> 태그 안에 있는 / 3번째 <ytd-search-filter-renderer> 태그 안에서, <a> 태그 형태로 존재한다.\n",
        "    \n",
        "<참고 사진>\n",
        "\n",
        "(크리에이티브 커먼즈로 예를 들어, 4번째 <ytd-search-group-renderer> 인 '기능별' 필터 그룹 옵션에서 5번째 <ytd-search-filter-renderer> 인 '크리에이티브 커먼즈' 필터 옵션이 있다.)\n",
        "    \n",
        "https://img1.daumcdn.net/thumb/R1280x0/?scode=mtistory2&fname=https%3A%2F%2Fblog.kakaocdn.net%2Fdn%2FlVpRF%2FbtqMkmQRVBt%2FsUa5gK4GyFGuonubxGQE1K%2Fimg.png"
      ],
      "id": "b93a364a"
    },
    {
      "cell_type": "markdown",
      "metadata": {
        "id": "67be9449"
      },
      "source": [
        ""
      ],
      "id": "67be9449"
    },
    {
      "cell_type": "code",
      "metadata": {
        "id": "15f7bd80"
      },
      "source": [
        "# 조회수 정보 :  원하는 데이터들은 <ytd-video-renderer> 태그 안에 있는 \n",
        "# / id가 'metadata-line'인 <div> 태그 안에 있는 \n",
        "# / 1번째 <span> 태그마다 text 형태로 존재한다. \n",
        "# (<ytd-video-renderer> 태그를 고려하지 않으면 맨 위에 가끔 나타나는 \n",
        "# 광고 영상의 조회수까지 콘솔에 출력되기 때문에 보기 안좋아질 것이다.) "
      ],
      "id": "15f7bd80",
      "execution_count": null,
      "outputs": []
    },
    {
      "cell_type": "code",
      "metadata": {
        "id": "dff8f83c"
      },
      "source": [
        "6. 코딩\n",
        " \n",
        "\n",
        "중간에 0.5초씩 sleep함수를 이용해 동작마다 코드 수행을 지연시키는 이유는 웹 사이트에 모든 요소가 모두 로드 될 때 까지 기다려주기 위함이다. 이 지연 함수를 넣지 않으면 웹 사이트에 요소가 로드 되기도 전에 요소를 찾게 되어 오류가 날수도 있다.\n",
        "\n",
        "위에서 설명한 모든 동작은 주석으로 달아 놓았다."
      ],
      "id": "dff8f83c",
      "execution_count": null,
      "outputs": []
    },
    {
      "cell_type": "markdown",
      "metadata": {
        "id": "bf3add1c"
      },
      "source": [
        "###**실제 코드**"
      ],
      "id": "bf3add1c"
    },
    {
      "cell_type": "markdown",
      "metadata": {
        "id": "cb4d750f"
      },
      "source": [
        "####**1. 유튜브 사이트 접속**\n",
        "\n",
        "* <b> driver.get('https://www.youtube.com') </b>"
      ],
      "id": "cb4d750f"
    },
    {
      "cell_type": "code",
      "metadata": {
        "id": "d490b600"
      },
      "source": [
        "# 1. 유튜브 사이트 접속\n",
        "\n",
        "from selenium import webdriver\n",
        "from time import sleep\n",
        "from bs4 import BeautifulSoup\n",
        "\n",
        "chrome_options = webdriver.ChromeOptions()\n",
        "\n",
        "# 전체 화면으로 크롬 브라우저 실행\n",
        "chrome_options.add_argument('--start-maximized')\n",
        "\n",
        "# chrome_options=chrome_options에서 options=chrome_options로 명령어 변경 됨\n",
        "driver = webdriver.Chrome('C:\\chromedriver.exe', options=chrome_options)\n",
        "\n",
        "driver.get('https://www.youtube.com')"
      ],
      "id": "d490b600",
      "execution_count": null,
      "outputs": []
    },
    {
      "cell_type": "markdown",
      "metadata": {
        "id": "b71351e3"
      },
      "source": [
        "###**2. 입력 창 요소 선택**\n",
        "\n",
        "* <b> name = 'search_query' </b>"
      ],
      "id": "b71351e3"
    },
    {
      "cell_type": "code",
      "metadata": {
        "id": "2fb63ec6"
      },
      "source": [
        "# 2. 입력 창 요소 선택\n",
        "search_bar = driver.find_element_by_name(\"search_query\")"
      ],
      "id": "2fb63ec6",
      "execution_count": null,
      "outputs": []
    },
    {
      "cell_type": "markdown",
      "metadata": {
        "id": "73149186"
      },
      "source": [
        "###**3. 입력란에 검색어 입력**\n",
        "\n",
        "* <b> search_bar.send_keys(keyword) </b>"
      ],
      "id": "73149186"
    },
    {
      "cell_type": "code",
      "metadata": {
        "id": "f8ce7486",
        "outputId": "85702a86-f28f-4d11-efa0-03d937d510bc"
      },
      "source": [
        "### 3. 입력란에 검색어 입력\n",
        "\n",
        "# keyword = '세종대학원'\n",
        "keyword = input(\"검색어를 입력하세요 : \")\n",
        "\n",
        "# 입력 창에 text 입력\n",
        "search_bar.send_keys(keyword)"
      ],
      "id": "f8ce7486",
      "execution_count": null,
      "outputs": [
        {
          "name": "stdout",
          "output_type": "stream",
          "text": [
            "검색어를 입력하세요 : 세종대학원\n"
          ]
        }
      ]
    },
    {
      "cell_type": "markdown",
      "metadata": {
        "id": "bbac2c90"
      },
      "source": [
        "###**4. 검색 버튼 xpath 찾기 및 클릭**\n",
        "\n",
        "* <b> '//*[@id=\"search-icon-legacy\"]'</b>"
      ],
      "id": "bbac2c90"
    },
    {
      "cell_type": "code",
      "metadata": {
        "id": "dba96c99"
      },
      "source": [
        "# 4. 검색 버튼 xpath 찾기 및 클릭\n",
        "driver.find_element_by_xpath('//*[@id=\"search-icon-legacy\"]').click()\n",
        "sleep(0.5)"
      ],
      "id": "dba96c99",
      "execution_count": null,
      "outputs": []
    },
    {
      "cell_type": "markdown",
      "metadata": {
        "id": "14610518"
      },
      "source": [
        "###**5. 필터 토글 버튼 xpath 가져오기 & 버튼 클릭**"
      ],
      "id": "14610518"
    },
    {
      "cell_type": "code",
      "metadata": {
        "id": "f49e7293"
      },
      "source": [
        "# 5. 필터 토글 xpath가져오기 & 버튼 클릭\n",
        "driver.find_element_by_xpath('//*[@id=\"container\"]/ytd-toggle-button-renderer/a').click()\n",
        "sleep(0.5)"
      ],
      "id": "f49e7293",
      "execution_count": null,
      "outputs": []
    },
    {
      "cell_type": "markdown",
      "metadata": {
        "id": "853759ac"
      },
      "source": [
        "###**6. 업로드 날짜 클릭**\n",
        "\n",
        "* <b> driver.find_element_by_css_selector : </b> css 선택자 방식\n",
        "* <b> '#collapse-content > ytd-search-filter-group-renderer:nth-child(4) > ytd-search-filter-renderer:nth-of-type(2) a' : </b> css 방식 경로\n",
        "* <b> .click() : </b> 클릭"
      ],
      "id": "853759ac"
    },
    {
      "cell_type": "code",
      "metadata": {
        "id": "ea1b7b48"
      },
      "source": [
        "# 6. 업로드 날짜 글자 클릭\n",
        "driver.find_element_by_css_selector('#collapse-content > ytd-search-filter-group-renderer:nth-child(4) > ytd-search-filter-renderer:nth-of-type(2) a').click()\n",
        "sleep(0.5)"
      ],
      "id": "ea1b7b48",
      "execution_count": null,
      "outputs": []
    },
    {
      "cell_type": "markdown",
      "metadata": {
        "id": "uExhltdt8adA"
      },
      "source": [
        "###**7. 컨텐츠 추출**\n",
        "\n",
        "* <b> driver.find_element_by_css_selector : </b> : css 선택자 방식\n",
        "* <b> div#contents > ytd-video-renderer.style-scope.ytd-item-section-renderer </b> : css 방식 경로\n",
        "* <b> .text() : </b> 텍스트만 추출"
      ],
      "id": "uExhltdt8adA"
    },
    {
      "cell_type": "code",
      "metadata": {
        "id": "f71e8ab4"
      },
      "source": [
        "# 컨텐츠 전체 영역 출력\n",
        "\n",
        "contents = driver.find_elements_by_css_selector(\"div#contents > ytd-video-renderer.style-scope.ytd-item-section-renderer\")\n",
        "\n",
        "for content in contents:\n",
        "    print(content.text)"
      ],
      "id": "f71e8ab4",
      "execution_count": null,
      "outputs": []
    },
    {
      "cell_type": "code",
      "metadata": {
        "id": "911e6a7a",
        "outputId": "06641412-7ce8-4e24-dd70-f01f1c931d57"
      },
      "source": [
        "# 컨텐츠 중에 제목만 나열하기\n",
        "\n",
        "titles = content.find_elements_by_css_selector(\"div#meta > div#title-wrapper > h3 > a\")\n",
        "\n",
        "i = 0\n",
        "\n",
        "for title in titles:\n",
        "    print(i, \": \", title.text)\n",
        "    i = i + 1"
      ],
      "id": "911e6a7a",
      "execution_count": null,
      "outputs": [
        {
          "name": "stdout",
          "output_type": "stream",
          "text": [
            "0 :  [수시 합격비결 , 인연기학원] 2020학년도 연극영화과, 뮤지컬과 , 방송연예과 , 영화예술학과 최종합격 수기!!! - 김용학, 한예종 , 중앙대 , 세종대 , 서울예대 -\n"
          ]
        }
      ]
    },
    {
      "cell_type": "code",
      "metadata": {
        "id": "7173ed63"
      },
      "source": [
        "# 컨텐츠 중에 제목만 출력하기\n",
        "\n",
        "contents = driver.find_elements_by_css_selector(\"div#contents > ytd-video-renderer.style-scope.ytd-item-section-renderer \")\n",
        "\n",
        "for content in contents:\n",
        "    # print(content.text)\n",
        "    titles = content.find_elements_by_css_selector(\"div#meta > div#title-wrapper > h3 > a\")\n",
        "\n",
        "    for title in titles:\n",
        "        print(i, \": \", title.text)\n",
        "        i = i + 1\n",
        "        \n",
        "# 스크롤링 없이 한 페이지 최대 유튜브 갯수는 20개"
      ],
      "id": "7173ed63",
      "execution_count": null,
      "outputs": []
    },
    {
      "cell_type": "markdown",
      "metadata": {
        "id": "fu1_3D2j87Dy"
      },
      "source": [
        "###**8. 스크롤링을 통해 데이터베이스에서 컨텐츠 가져오기**\n",
        "\n",
        "* <b> driver.execute_script(\"window.scrollTo(0, document.getElementById('content').scrollHeight);\") </b> : PC별 높이 사이즈 정보를 가져옴"
      ],
      "id": "fu1_3D2j87Dy"
    },
    {
      "cell_type": "code",
      "metadata": {
        "id": "8cf5f223",
        "outputId": "aa8ccaf3-2b66-4889-c412-640846632bf9"
      },
      "source": [
        "# 참고 사이트\n",
        "# https://lcs1245.tistory.com/entry/Python-%EC%9B%B9-%ED%81%AC%EB%A1%A4%EB%A7%81%ED%95%98%EA%B8%B0-PART-2\n",
        "# https://velog.io/@devmin/selenium-crawling-infinite-scroll-click\n",
        "\n",
        "import time\n",
        "\n",
        "# 연속 범위로 줘도 데이터베이스에서 가져오는게 정확하지 않음, 1번씩 할때는 정확함\n",
        "# 2번 이상시에는 네트워크 및 유튜브 마음에 따라 진행됨(고로, 갯수가 딱 정확하게 들어오지 않음)\n",
        "scroll_cnt = input(\"스크롤링을 몇 번 할까요? \")\n",
        "# print(scroll_cnt)\n",
        "\n",
        "SCROLL_PAUSE_TIME = int(input(\"스크롤링을 대기 시간을 몇 초로 할까요? \"))\n",
        "\n",
        "# Get scroll height\n",
        "# last_height = driver.execute_script(\"return document.body.scrollHeight\")\n",
        "\n",
        "# 자바스크립트를 통해서 높이값을 저장하고 그 높이 * scroll_cnt 만큼 웹 페이지를 스크롤한다.\n",
        "for i in scroll_cnt:\n",
        "    # 스크롤을 화면 가장 아래로 내린다\n",
        "    driver.execute_script(\"window.scrollTo(0, document.getElementById('content').scrollHeight);\")\n",
        "    \n",
        "    time.sleep(SCROLL_PAUSE_TIME)                                               "
      ],
      "id": "8cf5f223",
      "execution_count": null,
      "outputs": [
        {
          "name": "stdout",
          "output_type": "stream",
          "text": [
            "스크롤링을 몇 번 할까요? 10\n",
            "스크롤링을 대기 시간을 몇 초로 할까요? 3\n"
          ]
        }
      ]
    },
    {
      "cell_type": "code",
      "metadata": {
        "id": "5a8b4c5a",
        "outputId": "ce119539-2edf-4838-94fc-b89a59099878"
      },
      "source": [
        "# 제목 데이터만 title_filter 변수에 대입 => 추후 판다스 패키지를 통해 엑셀 저장\n",
        "\n",
        "contents = driver.find_elements_by_css_selector(\"div#contents > ytd-video-renderer.style-scope.ytd-item-section-renderer \")\n",
        "\n",
        "title_filter = []\n",
        "\n",
        "for content in contents:\n",
        "    # print(content.text)\n",
        "    titles = content.find_elements_by_css_selector(\"div#meta > div#title-wrapper > h3 > a\")\n",
        "\n",
        "    for title in titles:\n",
        "        title_filter.append(title.text)\n",
        "        \n",
        "print(title_filter)\n",
        "print(len(title_filter))"
      ],
      "id": "5a8b4c5a",
      "execution_count": null,
      "outputs": [
        {
          "name": "stdout",
          "output_type": "stream",
          "text": [
            "['TMI 캠퍼스투어 세종대학교🎓 1편을 보여드립니다! 근데 이제 투머치토커 박찬호 선수⚾에 빙의된..', '[ALLCOBI 세종대학교 위클리 프로젝트] 밸런스 게임', '[수액터스팜2021] [세종대학교영화예술학과 최종합격] \"회전목마가 수없이 돌아가듯...\" #세종대학교 #대진대학교 #6관왕 #김길원', '2021 댄스로맨스PROJECT.9 | 백제예대 | 세종대학원 | HOYA X KING SANG', '당신은 왜 설계를 하나요?', '[세종대학교/Sejong University] 경영대학 컨보케이션 - 경영대학 분야별 교수님 소개', '2021년 세종대학교 영화예술학과 4학년 프로젝트1 [맨 끝줄 소년, 맨 끝줄 소녀] 클라우디오 역 - 최용준 배우', '세종대학교 영화예술학과 21년도 3학년 프로젝트 맥베스:OPT 연습영상 (멜컴)', '[세종대학교/Sejong University] 경영대학 컨보케이션 - 경영대학 소개', '[세종대학교/Sejong University] 신입생과 함께하는 개강예배', '2021년 세종대학교 영화예술학과 4학년 프로젝트1 [맨 끝줄 소년, 맨 끝줄 소녀] 헤르만 역 - 이주원 배우', '[세종대학교/Sejong University] 경영대학 컨보케이션 - 개회사', \"3℃. 연극영화과 대학원 석사 질문과답변 Q&A (배우 연극영화과 대학원 진학을 해야 할까요?) 졸업식 브이로그 / Master's Q&A, and graduation vlogs\", '[세종대학교/Sejong University] 경영대학 컨보케이션 - 식순 안내', '[Team #트루나 작품] 세종대학교 융합예술대학원x미래교육원 실용무용 [2021-1학기 위클리 프로젝트]', '예비 샐러던트를 위한 직장과 병행 가능한 유망한 파트타임 박사과정 Top7', 'Chinese Traditional style Performance of Arirang중국 전통 스타일 버전의 아리랑 韩国民谣阿里郎中国民族风改编（강리즈,하가호,진징,소곤）4K', '6분만에 알아보는 고려대에 대한 11가지 사실', '제25대 고려대학교 정책대학원 송인석 교우회장 인사스피치', '[수시 합격비결 , 인연기학원] 2020학년도 연극영화과, 뮤지컬과 , 방송연예과 , 영화예술학과 최종합격 수기!!! - 김용학, 한예종 , 중앙대 , 세종대 , 서울예대 -', '[세종시교회추천]세종그나라교회.유석영목사찬양[아무것도두려워마라.cover by유석영] 세종그나라교회 담임', '[세종시교회추천]세종그나라교회.유석영목사찬양(born again)', '[ Vlog_#4 ] 세종시 일상 브이로그 / 세종시 카페 투어 / 공원 산책 (전망대) / 드라이브 | K5 dl3 Vlog', '해럴드 핀터 (Harold Pinter)-배신 작품분석/2022년도 세종대학교 지정희곡 /빅액터스/연기독학/연출과/연기배우기/연기레슨', '[교원임용] 향후 임용고시 TO가 늘어나는 지역이 있다고? (Feat. 교육청 자료 분석)_뮤직서커스', '샐러던트 직장인 대학원생이 수강신청시 유의할 점 ft. 홍익대 지식재산학과 주요 과목 소개', \"'바이러스의 선물, 트로이의 목마' 분자바이러스 연구실(고려대)ㅣ연구현장속으로ㅣ[토요과학강연 홍보영상]\", '2020 대한민국 공과대학 순위 top 50', '간호사 연봉! 7년차, 10년차 매달 받는 월급 실수령액 공개합니다', '[서울시립대학교] 대학생 랜선 캠퍼스 여행ㅣ시네마틱 브이로그 - Univ. of Seoul Cinematic Vlog', '효과적인 비대면 강좌 운영 노하우 김동욱 교수님', '별밤축제 \"AMONG EARTH\" 학부생 강연 영상', '대전 Chungnam National University Drive Tour✨ KOREA 4k 🚗대전 충남 대학교 드라이브 영상 입니다💖', '36.(완)세종시새롬동부동산, 미세먼지 총출동 한날에 캐파84A', '고려대학교 일반대학원 지원방법 | 심리학자 카피바라 Psychologist Capybara', '제14회 세종특별자치시 치매극복의 날 기념식 현장스케치', '영남대학교 스포츠과학대학원 석박사과정 학위수여식및신입생환영회', 'AI대학원 광주에 뜬다...\"데이터센터 등 인프라 조속히 구축해야\"', '대학원생 7월 𝕆𝕠𝕥𝕕 𝕧𝕝𝕠𝕘 · 현대아울렛 H&M 쇼핑로그 · 진주목걸이 만드는 일상ㅣ#마쥬#산드로#딥브로우#구찌#여름데일리룩#여름룩북여자', '대학교 정보보안 학과에 들어가면 배우게 되는 것은? (feat 정보보호전문가 = 해커다)', '[Global A] 세종대-한국환경공단, 기후변화 전문인력 양성…35억원 투입', '메이슨, 고려대학교 투어 [흔들림 주의!]', '2021 일반대학원 석/박사 졸업식', 'Chinese Traditional style Performance of Arirang중국 전통 스타일 버전의 아리랑 韩国民谣阿里郎中国民族风改编（강리즈,하가호,진징,소곤）4K', '112.세종시,세종하늘채센트레빌,분양일정이 한번더 늦춰진 이유로 추정되는 LH공공분양 분양가관련 하트블럭 의지가 착한분양가에 제대로 반영되었길ᆢ', '충청북도 청주시 오송읍(오송역, 세종시티호텔) - 놀밥이 담은 세상 풍경', '동국대학교 불교대학원 58기 신입생 환영회_20190819', '아댄배(IDB) 참가자 9번', '세종시 생태수목원 가려다가 호수공원에서 놀다온 사연~~ㅋㅋ[임다람지네 브이로그]', '인공지능 연구에서 가장 잘 나가는 학교, 기업은?', '대학원 준비, 공연 연습, 과외로 정신 없었던 일상 VLOG', '2021 댄스로맨스PROJECT.9 | 세종대평생교육원 | 실용무용학 | 정미금', '[Q&A] 나이? 대학교? 다이어트? 인간관계? 남자친구? 재수썰?', '2019 가라사대 홍보 영상', '세종사이버대 유튜버학과 댄스챌린지 대회! 1등 상금 100만원👏👏', '도둑들(THE THIEVES)｜세종대학교 융합예술대학원 무용학과', '2021 경영교육 혁신 세미나(조직인사 전공)', '고려대 안암캠퍼스에 벌써 봄이왔나 봄!! 이른 봄 고려대학교 캠퍼스 즐겨봐요!! | Korea University in early spring', '【4K Univ】Korea University Seoul 高麗大學 고려대학교']\n",
            "59\n"
          ]
        }
      ]
    },
    {
      "cell_type": "markdown",
      "metadata": {
        "id": "0NhDL-CG8Tvv"
      },
      "source": [
        "###**9.판다스 패키지로 엑셀 파일에 저장**\n",
        "\n",
        "* <b> pd.DataFrame(title_filter) </b>\n"
      ],
      "id": "0NhDL-CG8Tvv"
    },
    {
      "cell_type": "code",
      "metadata": {
        "id": "df862822",
        "outputId": "1ffec49b-3af6-4eb5-8180-4cd2d949a99f"
      },
      "source": [
        "# 판다스 패키지를 통해 엑셀에 저장한다.\n",
        "\n",
        "# 판다스 패키지를 통해 엑셀로 확인\n",
        "\n",
        "import pandas as pd\n",
        "\n",
        "df = pd.DataFrame(title_filter)\n",
        "\n",
        "# df\n",
        "\n",
        "df.columns = ['제목']\n",
        "\n",
        "df\n",
        "\n",
        "file_name = input(\"파일명을 입력하세요 :\")\n",
        "\n",
        "# 유튜브_키워드_제목_크롤링결과\n",
        "df.to_excel(f\"./{file_name}.xlsx\", index=False)"
      ],
      "id": "df862822",
      "execution_count": null,
      "outputs": [
        {
          "name": "stdout",
          "output_type": "stream",
          "text": [
            "파일명을 입력하세요 :유튜브_키워드_제목_크롤링결과\n"
          ]
        }
      ]
    }
  ]
}