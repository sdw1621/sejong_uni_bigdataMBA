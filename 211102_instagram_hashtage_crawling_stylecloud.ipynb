{
  "nbformat": 4,
  "nbformat_minor": 5,
  "metadata": {
    "kernelspec": {
      "display_name": "Python 3",
      "language": "python",
      "name": "python3"
    },
    "language_info": {
      "codemirror_mode": {
        "name": "ipython",
        "version": 3
      },
      "file_extension": ".py",
      "mimetype": "text/x-python",
      "name": "python",
      "nbconvert_exporter": "python",
      "pygments_lexer": "ipython3",
      "version": "3.8.8"
    },
    "colab": {
      "name": "211102_instagram_hashtage_crawling_stylecloud.ipynb",
      "provenance": [],
      "include_colab_link": true
    }
  },
  "cells": [
    {
      "cell_type": "markdown",
      "metadata": {
        "id": "view-in-github",
        "colab_type": "text"
      },
      "source": [
        "<a href=\"https://colab.research.google.com/github/sdw1621/sejong_uni_bigdataMBA/blob/main/211102_instagram_hashtage_crawling_stylecloud.ipynb\" target=\"_parent\"><img src=\"https://colab.research.google.com/assets/colab-badge.svg\" alt=\"Open In Colab\"/></a>"
      ]
    },
    {
      "cell_type": "code",
      "metadata": {
        "id": "de3f786e",
        "outputId": "0377ac85-b008-474e-f162-c166e1694817"
      },
      "source": [
        "!pip install selenium"
      ],
      "id": "de3f786e",
      "execution_count": null,
      "outputs": [
        {
          "name": "stdout",
          "output_type": "stream",
          "text": [
            "Requirement already satisfied: selenium in c:\\users\\sdw19\\anaconda3\\lib\\site-packages (3.141.0)\n",
            "Requirement already satisfied: urllib3 in c:\\users\\sdw19\\anaconda3\\lib\\site-packages (from selenium) (1.26.4)\n"
          ]
        }
      ]
    },
    {
      "cell_type": "code",
      "metadata": {
        "id": "4c75f4c1",
        "outputId": "baf8462e-9ba2-42fe-fe41-d6cb6e01d05b"
      },
      "source": [
        "!pip install pytagcloud"
      ],
      "id": "4c75f4c1",
      "execution_count": null,
      "outputs": [
        {
          "name": "stdout",
          "output_type": "stream",
          "text": [
            "Requirement already satisfied: pytagcloud in c:\\users\\sdw19\\anaconda3\\lib\\site-packages (0.3.5)\n"
          ]
        }
      ]
    },
    {
      "cell_type": "code",
      "metadata": {
        "id": "208f74d2",
        "outputId": "166512a1-63ee-4202-c53a-fd47330d77c3"
      },
      "source": [
        "!pip install pygame"
      ],
      "id": "208f74d2",
      "execution_count": null,
      "outputs": [
        {
          "name": "stdout",
          "output_type": "stream",
          "text": [
            "Requirement already satisfied: pygame in c:\\users\\sdw19\\anaconda3\\lib\\site-packages (2.0.1)\n"
          ]
        }
      ]
    },
    {
      "cell_type": "code",
      "metadata": {
        "id": "83c7e7e4",
        "outputId": "1fb4c93e-faf3-423f-ebb8-2a884de92e23"
      },
      "source": [
        "!pip install simplejson"
      ],
      "id": "83c7e7e4",
      "execution_count": null,
      "outputs": [
        {
          "name": "stdout",
          "output_type": "stream",
          "text": [
            "Requirement already satisfied: simplejson in c:\\users\\sdw19\\anaconda3\\lib\\site-packages (3.17.3)\n"
          ]
        }
      ]
    },
    {
      "cell_type": "code",
      "metadata": {
        "id": "6ea2a35e",
        "outputId": "1de0b109-3173-40a5-a9d7-5d7ea573c542"
      },
      "source": [
        "pip install chromedriver-autoinstaller"
      ],
      "id": "6ea2a35e",
      "execution_count": null,
      "outputs": [
        {
          "name": "stdout",
          "output_type": "stream",
          "text": [
            "Requirement already satisfied: chromedriver-autoinstaller in c:\\users\\sdw19\\anaconda3\\lib\\site-packages (0.2.2)\n",
            "Note: you may need to restart the kernel to use updated packages.\n"
          ]
        }
      ]
    },
    {
      "cell_type": "code",
      "metadata": {
        "id": "af36de3c"
      },
      "source": [
        "from selenium import webdriver\n",
        "import chromedriver_autoinstaller\n",
        "\n",
        "chrome_ver = chromedriver_autoinstaller.get_chrome_version().split('.')[0]  #크롬드라이버 버전 확인\n",
        "\n",
        "try:\n",
        "    driver = webdriver.Chrome(f'./{chrome_ver}/chromedriver.exe')   \n",
        "except:\n",
        "    chromedriver_autoinstaller.install(True)\n",
        "    driver = webdriver.Chrome(f'./{chrome_ver}/chromedriver.exe')\n",
        "\n",
        "driver.implicitly_wait(10)"
      ],
      "id": "af36de3c",
      "execution_count": null,
      "outputs": []
    },
    {
      "cell_type": "code",
      "metadata": {
        "id": "5ea0bf3c"
      },
      "source": [
        "import requests\n",
        "from selenium import webdriver as wd\n",
        "import time\n",
        "import re\n",
        "import pytagcloud"
      ],
      "id": "5ea0bf3c",
      "execution_count": null,
      "outputs": []
    },
    {
      "cell_type": "code",
      "metadata": {
        "id": "0599db41"
      },
      "source": [
        "driver.get('https://www.instagram.com/')"
      ],
      "id": "0599db41",
      "execution_count": null,
      "outputs": []
    },
    {
      "cell_type": "code",
      "metadata": {
        "id": "9ffa6521",
        "outputId": "284a2c89-3893-4209-d9df-57189161abab"
      },
      "source": [
        "# 인스타그램 홈페이지 로그인\n",
        "\n",
        "# 아이디 : sdw1904@naver.com\n",
        "username = input(\"인스타그램 아이디를 입력하세요 : \")\n",
        "\n",
        "# 패스워드 : dwShin1004@@\n",
        "password = input(\"인스타그램 비밀번호를 입력하세요 : \")\n",
        "\n",
        "elem_login = driver.find_element_by_name(\"username\") # 인스타그램 홈페이지의 로그인 영역\n",
        "elem_password = driver.find_element_by_name(\"password\") # 인스타그램 홈페이지의 패스워드 영역\n",
        "\n",
        "elem_login.clear()\n",
        "elem_password.clear()\n",
        "\n",
        "elem_login.send_keys(username)\n",
        "elem_password.send_keys(password)\n",
        "\n",
        "# 로그인 버튼 누르기 (xpath)\n",
        "elem_login_xpath = driver.find_element_by_xpath('//*[@id=\"loginForm\"]/div/div[3]/button')\n",
        "elem_login_xpath.click()\n",
        "\n",
        "time.sleep(3)"
      ],
      "id": "9ffa6521",
      "execution_count": null,
      "outputs": [
        {
          "name": "stdout",
          "output_type": "stream",
          "text": [
            "인스타그램 아이디를 입력하세요 : sdw1904@naver.com\n",
            "인스타그램 비밀번호를 입력하세요 : dwShin1004@@\n"
          ]
        }
      ]
    },
    {
      "cell_type": "code",
      "metadata": {
        "id": "feda3770"
      },
      "source": [
        "# 나중에 하기 버튼 누르기 (css_select)\n",
        "\n",
        "elem_later_css = driver.find_element_by_css_selector('#react-root > section > main > div > div > div > div > button')\n",
        "elem_later_css.click()\n",
        "\n",
        "time.sleep(3)"
      ],
      "id": "feda3770",
      "execution_count": null,
      "outputs": []
    },
    {
      "cell_type": "code",
      "metadata": {
        "id": "c4dff435"
      },
      "source": [
        "# 알림 설정 팝업 - 나중에 하기 버튼 누르기 (css_select)\n",
        "\n",
        "elem_later_css2 = driver.find_element_by_css_selector('body > div.RnEpo.Yx5HN > div > div > div > div.mt3GC > button.aOOlW.HoLwm')\n",
        "elem_later_css2.click()\n",
        "\n",
        "time.sleep(3)"
      ],
      "id": "c4dff435",
      "execution_count": null,
      "outputs": []
    },
    {
      "cell_type": "code",
      "metadata": {
        "id": "b5b6295b",
        "outputId": "2cd67b44-ef9e-4bea-b55d-5bec81dc39d1"
      },
      "source": [
        "# 해시 태그 검색\n",
        "\n",
        "keyword = input(\"검색하고 싶은 키워드를 입력하세요 : \")\n",
        "\n",
        "# https://www.instagram.com/explore/tags/이패스\n",
        "# https://www.instagram.com/explore/tags/에스파\n",
        "\n",
        "url = 'https://www.instagram.com/explore/tags/' + keyword\n",
        "\n",
        "driver.get(url)\n",
        "\n",
        "time.sleep(5)"
      ],
      "id": "b5b6295b",
      "execution_count": null,
      "outputs": [
        {
          "name": "stdout",
          "output_type": "stream",
          "text": [
            "검색하고 싶은 키워드를 입력하세요 : 세종대학교\n"
          ]
        }
      ]
    },
    {
      "cell_type": "code",
      "metadata": {
        "id": "710b1399"
      },
      "source": [
        "# 첫 번째 게시물 클릭\n",
        "\n",
        "first_post = driver.find_element_by_css_selector('.v1Nh3.kIKUG._bz0w')\n",
        "first_post.click()\n",
        "\n",
        "time.sleep(3)"
      ],
      "id": "710b1399",
      "execution_count": null,
      "outputs": []
    },
    {
      "cell_type": "code",
      "metadata": {
        "id": "5cd0331d",
        "outputId": "d48b3e89-5454-42f3-80a7-de23363ceb35"
      },
      "source": [
        "# 해시 태그 문자 가져오기\n",
        "\n",
        "data = driver.find_element_by_css_selector('.C4VMK')\n",
        "tag_raw = data.text\n",
        "\n",
        "# print(tag_raw)\n",
        "\n",
        "tags = re.findall('#[A-Za-z0-9가-힣]+', tag_raw)\n",
        "print(tags)\n",
        "\n",
        "tag = ''.join(tags).replace(\"#\",\" \")\n",
        "print(tag)\n",
        "\n",
        "tag_data = tag.split()\n",
        "print(tag_data)"
      ],
      "id": "5cd0331d",
      "execution_count": null,
      "outputs": [
        {
          "name": "stdout",
          "output_type": "stream",
          "text": [
            "['#프랜차이즈mba', '#fcmba']\n",
            " 프랜차이즈mba fcmba\n",
            "['프랜차이즈mba', 'fcmba']\n"
          ]
        }
      ]
    },
    {
      "cell_type": "code",
      "metadata": {
        "scrolled": true,
        "id": "279d4325",
        "outputId": "f015176b-f65d-4f7f-d8e0-eb8faea9907c"
      },
      "source": [
        "# 여러 페이지에서 해시 태그 문자 수집하기\n",
        "\n",
        "post_count = input(\"몇 개의 게시물을 수집할까요? : \")\n",
        "\n",
        "post_count = int(post_count)\n",
        "\n",
        "for i in range(post_count):\n",
        "    \n",
        "    print(\"\\n\"+ str(i+1) + \"번째 게시물을 수집하고 있습니다.\\n\")\n",
        "    \n",
        "    time.sleep(3)\n",
        "    \n",
        "    data = driver.find_element_by_css_selector('.C4VMK')\n",
        "    tag_raw = data.text\n",
        "\n",
        "    # print(tag_raw)\n",
        "\n",
        "    tags = re.findall('#[A-Za-z0-9가-힣]+', tag_raw)\n",
        "    # print(tags)\n",
        "\n",
        "    tag = ''.join(tags).replace(\"#\",\" \")\n",
        "    # print(tag)\n",
        "\n",
        "    tag_data = tag.split()\n",
        "    print(tag_data)"
      ],
      "id": "279d4325",
      "execution_count": null,
      "outputs": [
        {
          "name": "stdout",
          "output_type": "stream",
          "text": [
            "몇 개의 게시물을 수집할까요? : 3\n",
            "\n",
            "1번째 게시물을 수집하고 있습니다.\n",
            "\n",
            "['프랜차이즈mba', 'fcmba']\n",
            "\n",
            "2번째 게시물을 수집하고 있습니다.\n",
            "\n",
            "['프랜차이즈mba', 'fcmba']\n",
            "\n",
            "3번째 게시물을 수집하고 있습니다.\n",
            "\n",
            "['프랜차이즈mba', 'fcmba']\n"
          ]
        }
      ]
    },
    {
      "cell_type": "code",
      "metadata": {
        "id": "72906112"
      },
      "source": [
        "# 오른쪽 버튼 누르기 (2021년 10월 변경 내용!)\n",
        "right_arrow_button = driver.find_element_by_css_selector('div.l8mY4 > button.wpO6b')\n",
        "right_arrow_button.click()\n",
        "\n",
        "# 참고 : 왼쪽 버튼\n",
        "# left_arrow_button = driver.find_element_by_css_selector('div._6Eych > button.wpO6b')\n",
        "# left_arrow_button.click()"
      ],
      "id": "72906112",
      "execution_count": null,
      "outputs": []
    },
    {
      "cell_type": "code",
      "metadata": {
        "id": "5192356d",
        "outputId": "f222fc5a-12ea-496e-911b-b5a807febbcd"
      },
      "source": [
        "## 여러 페이지에서 해시 태그 문자 수집하기\n",
        "\n",
        "post_count = input(\"몇 개의 게시물을 수집할까요? : \")\n",
        "\n",
        "post_count = int(post_count)\n",
        "\n",
        "for i in range(post_count):\n",
        "    \n",
        "    print(\"\\n\"+ str(i+1) + \"번째 게시물을 수집하고 있습니다.\\n\")\n",
        "    \n",
        "    time.sleep(3)\n",
        "    \n",
        "    data = driver.find_element_by_css_selector('.C4VMK')\n",
        "    tag_raw = data.text\n",
        "\n",
        "    # print(tag_raw)\n",
        "\n",
        "    tags = re.findall('#[A-Za-z0-9가-힣]+', tag_raw)\n",
        "    # print(tags)\n",
        "\n",
        "    tag = ''.join(tags).replace(\"#\",\" \")\n",
        "    # print(tag)\n",
        "\n",
        "    tag_data = tag.split()\n",
        "    print(tag_data)\n",
        "    \n",
        "    right_arrow_button = driver.find_element_by_css_selector('div.l8mY4 > button.wpO6b')\n",
        "    right_arrow_button.click()"
      ],
      "id": "5192356d",
      "execution_count": null,
      "outputs": [
        {
          "name": "stdout",
          "output_type": "stream",
          "text": [
            "몇 개의 게시물을 수집할까요? : 3\n",
            "\n",
            "1번째 게시물을 수집하고 있습니다.\n",
            "\n",
            "['세종대학교', '기도하는', '예수님', '기도']\n",
            "\n",
            "2번째 게시물을 수집하고 있습니다.\n",
            "\n",
            "['포토이즘박스세종대점']\n",
            "\n",
            "3번째 게시물을 수집하고 있습니다.\n",
            "\n",
            "[]\n"
          ]
        }
      ]
    },
    {
      "cell_type": "code",
      "metadata": {
        "id": "c2fda09d",
        "outputId": "3153fc24-2218-4baa-82dd-4aa7d747005e"
      },
      "source": [
        "# 여러 페이지에서 해시 태그 문자 수집하기\n",
        "\n",
        "post_count = input(\"몇 개의 게시물을 수집할까요? : \")\n",
        "\n",
        "post_count = int(post_count)\n",
        "\n",
        "instagram_tags = []\n",
        "\n",
        "for i in range(post_count):\n",
        "    \n",
        "    print(\"\\n\"+ str(i+1) + \"번째 게시물을 수집하고 있습니다.\\n\")\n",
        "    \n",
        "    time.sleep(3)\n",
        "    \n",
        "    datas = driver.find_elements_by_css_selector('.C4VMK > span > a.xil3i') # 해쉬태그들만 수집\n",
        "    \n",
        "    for data in datas:\n",
        "        tag_raw = data.text\n",
        "        # print(tag_raw)\n",
        "\n",
        "        # tags = re.findall('#[A-Za-z0-9가-힣]+', tag_raw)\n",
        "        # print(tags)\n",
        "\n",
        "        tag = ''.join(tag_raw).replace(\"#\",\" \")\n",
        "        # print(tag)\n",
        "\n",
        "        tag_data = tag.split()\n",
        "        print(tag_data)\n",
        "\n",
        "        for tag_one in tag_data:\n",
        "            instagram_tags.append(tag_one)\n",
        "\n",
        "    right_arrow_button = driver.find_element_by_css_selector('div.l8mY4 > button.wpO6b')\n",
        "    right_arrow_button.click()\n",
        "    \n",
        "print(\"\\n최종 인스타그램 태그 크롤링 결과 : \", instagram_tags)"
      ],
      "id": "c2fda09d",
      "execution_count": null,
      "outputs": [
        {
          "name": "stdout",
          "output_type": "stream",
          "text": [
            "몇 개의 게시물을 수집할까요? : 3\n",
            "\n",
            "1번째 게시물을 수집하고 있습니다.\n",
            "\n",
            "['스미다젤라또']\n",
            "['스미다']\n",
            "['젤라또']\n",
            "['gelato']\n",
            "['감성']\n",
            "['좋아요']\n",
            "['세종대']\n",
            "['세종대카페']\n",
            "['군자역']\n",
            "['중곡동']\n",
            "['디저트']\n",
            "['이웃']\n",
            "['동네']\n",
            "['카페']\n",
            "['맛집']\n",
            "['추천']\n",
            "['냠냠']\n",
            "['행복']\n",
            "['쬑오']\n",
            "['군자카페']\n",
            "['군자맛집']\n",
            "['군자디저트']\n",
            "['중곡동카페']\n",
            "['군자추천']\n",
            "['중곡동맛집']\n",
            "['어린이대공원']\n",
            "['세종대학교']\n",
            "\n",
            "2번째 게시물을 수집하고 있습니다.\n",
            "\n",
            "['세종대학교']\n",
            "['세종대']\n",
            "['sejonguniv']\n",
            "['sejonguniversity']\n",
            "['SEJONG']\n",
            "['대학교']\n",
            "['대학']\n",
            "['세온']\n",
            "['세종대학교온라인홍보기자단']\n",
            "['온라인홍보기자']\n",
            "['seon']\n",
            "['SEON']\n",
            "['홍보모델']\n",
            "['세모']\n",
            "['홍보기자']\n",
            "['홍보']\n",
            "\n",
            "3번째 게시물을 수집하고 있습니다.\n",
            "\n",
            "['GMT']\n",
            "['대동무예스쿨']\n",
            "['우슈']\n",
            "['태권도']\n",
            "['합기도']\n",
            "['호신술']\n",
            "['합기유권술']\n",
            "['세계태권도선교협회']\n",
            "['비전팀']\n",
            "['대한우슈협회']\n",
            "['대한태극권연맹']\n",
            "['합기유권술전통술기보존회']\n",
            "['세종대학교']\n",
            "['GMT대동무예스쿨봉사단']\n",
            "['강동경찰서무도교관']\n",
            "['GreatMasterTeam']\n",
            "['Daedongmartialartsschool']\n",
            "['Wushu']\n",
            "['Taekwondo']\n",
            "['Hapkido']\n",
            "['selfdefensemartialart']\n",
            "['Hapkiyukwonsul']\n",
            "['WorldTaekwondoMission']\n",
            "['VisionTeam']\n",
            "['KoreaWushuAssociation']\n",
            "['KoreaTaijiquanFederation']\n",
            "['KBSsportcollege']\n",
            "['martialarts']\n",
            "['SejongUniversity']\n",
            "['HapkidoInstructorAtGangdongPoliceStation']\n",
            "\n",
            "최종 인스타그램 태그 크롤링 결과 :  ['스미다젤라또', '스미다', '젤라또', 'gelato', '감성', '좋아요', '세종대', '세종대카페', '군자역', '중곡동', '디저트', '이웃', '동네', '카페', '맛집', '추천', '냠냠', '행복', '쬑오', '군자카페', '군자맛집', '군자디저트', '중곡동카페', '군자추천', '중곡동맛집', '어린이대공원', '세종대학교', '세종대학교', '세종대', 'sejonguniv', 'sejonguniversity', 'SEJONG', '대학교', '대학', '세온', '세종대학교온라인홍보기자단', '온라인홍보기자', 'seon', 'SEON', '홍보모델', '세모', '홍보기자', '홍보', 'GMT', '대동무예스쿨', '우슈', '태권도', '합기도', '호신술', '합기유권술', '세계태권도선교협회', '비전팀', '대한우슈협회', '대한태극권연맹', '합기유권술전통술기보존회', '세종대학교', 'GMT대동무예스쿨봉사단', '강동경찰서무도교관', 'GreatMasterTeam', 'Daedongmartialartsschool', 'Wushu', 'Taekwondo', 'Hapkido', 'selfdefensemartialart', 'Hapkiyukwonsul', 'WorldTaekwondoMission', 'VisionTeam', 'KoreaWushuAssociation', 'KoreaTaijiquanFederation', 'KBSsportcollege', 'martialarts', 'SejongUniversity', 'HapkidoInstructorAtGangdongPoliceStation']\n"
          ]
        }
      ]
    },
    {
      "cell_type": "code",
      "metadata": {
        "id": "c44e24e7",
        "outputId": "322c03f3-5321-41d9-b25a-6e8812b4f5be"
      },
      "source": [
        "# 판다스 패키지를 통해 엑셀로 확인\n",
        "\n",
        "import pandas as pd\n",
        "\n",
        "df = pd.DataFrame(instagram_tags)\n",
        "\n",
        "df.columns = ['댓글']\n",
        "\n",
        "file_name = input(\"저장할 엑셀 파일명을 입력하세요 : \")\n",
        "\n",
        "df.to_excel(f\"./{file_name}.xlsx\", index=False)\n",
        "\n",
        "print(df)"
      ],
      "id": "c44e24e7",
      "execution_count": null,
      "outputs": [
        {
          "name": "stdout",
          "output_type": "stream",
          "text": [
            "저장할 엑셀 파일명을 입력하세요 : 세종대학교_인스타그램_결과\n",
            "                                          댓글\n",
            "0                                     스미다젤라또\n",
            "1                                        스미다\n",
            "2                                        젤라또\n",
            "3                                     gelato\n",
            "4                                         감성\n",
            "..                                       ...\n",
            "68                  KoreaTaijiquanFederation\n",
            "69                           KBSsportcollege\n",
            "70                               martialarts\n",
            "71                          SejongUniversity\n",
            "72  HapkidoInstructorAtGangdongPoliceStation\n",
            "\n",
            "[73 rows x 1 columns]\n"
          ]
        }
      ]
    },
    {
      "cell_type": "code",
      "metadata": {
        "id": "6c4880c7",
        "outputId": "c4ff3469-66ff-44dd-bf37-dcfd0d5a0041"
      },
      "source": [
        "# 엑셀 파일에서 필터링된 데이터 확인할 것!\n",
        "df"
      ],
      "id": "6c4880c7",
      "execution_count": null,
      "outputs": [
        {
          "data": {
            "text/html": [
              "<div>\n",
              "<style scoped>\n",
              "    .dataframe tbody tr th:only-of-type {\n",
              "        vertical-align: middle;\n",
              "    }\n",
              "\n",
              "    .dataframe tbody tr th {\n",
              "        vertical-align: top;\n",
              "    }\n",
              "\n",
              "    .dataframe thead th {\n",
              "        text-align: right;\n",
              "    }\n",
              "</style>\n",
              "<table border=\"1\" class=\"dataframe\">\n",
              "  <thead>\n",
              "    <tr style=\"text-align: right;\">\n",
              "      <th></th>\n",
              "      <th>댓글</th>\n",
              "    </tr>\n",
              "  </thead>\n",
              "  <tbody>\n",
              "    <tr>\n",
              "      <th>0</th>\n",
              "      <td>스미다젤라또</td>\n",
              "    </tr>\n",
              "    <tr>\n",
              "      <th>1</th>\n",
              "      <td>스미다</td>\n",
              "    </tr>\n",
              "    <tr>\n",
              "      <th>2</th>\n",
              "      <td>젤라또</td>\n",
              "    </tr>\n",
              "    <tr>\n",
              "      <th>3</th>\n",
              "      <td>gelato</td>\n",
              "    </tr>\n",
              "    <tr>\n",
              "      <th>4</th>\n",
              "      <td>감성</td>\n",
              "    </tr>\n",
              "    <tr>\n",
              "      <th>...</th>\n",
              "      <td>...</td>\n",
              "    </tr>\n",
              "    <tr>\n",
              "      <th>68</th>\n",
              "      <td>KoreaTaijiquanFederation</td>\n",
              "    </tr>\n",
              "    <tr>\n",
              "      <th>69</th>\n",
              "      <td>KBSsportcollege</td>\n",
              "    </tr>\n",
              "    <tr>\n",
              "      <th>70</th>\n",
              "      <td>martialarts</td>\n",
              "    </tr>\n",
              "    <tr>\n",
              "      <th>71</th>\n",
              "      <td>SejongUniversity</td>\n",
              "    </tr>\n",
              "    <tr>\n",
              "      <th>72</th>\n",
              "      <td>HapkidoInstructorAtGangdongPoliceStation</td>\n",
              "    </tr>\n",
              "  </tbody>\n",
              "</table>\n",
              "<p>73 rows × 1 columns</p>\n",
              "</div>"
            ],
            "text/plain": [
              "                                          댓글\n",
              "0                                     스미다젤라또\n",
              "1                                        스미다\n",
              "2                                        젤라또\n",
              "3                                     gelato\n",
              "4                                         감성\n",
              "..                                       ...\n",
              "68                  KoreaTaijiquanFederation\n",
              "69                           KBSsportcollege\n",
              "70                               martialarts\n",
              "71                          SejongUniversity\n",
              "72  HapkidoInstructorAtGangdongPoliceStation\n",
              "\n",
              "[73 rows x 1 columns]"
            ]
          },
          "execution_count": 81,
          "metadata": {},
          "output_type": "execute_result"
        }
      ]
    },
    {
      "cell_type": "code",
      "metadata": {
        "id": "43204883",
        "outputId": "80ef9cce-eb43-43bc-cc57-7abdabac9e51"
      },
      "source": [
        "# 불용어 : 안 쓰는 언어를 삭제\n",
        "# 에스파, AESPA\n",
        "\n",
        "# stop_words = ['에스파', 'AESPA', '에스파', 'aespa', 'æspa']\n",
        "\n",
        "stop_words = ['세종대', '세종대학교', 'sejong', 'SEJONG']\n",
        "\n",
        "instagram_tags_stop_words = [word for word in instagram_tags if word not in stop_words]\n",
        "print(instagram_tags_stop_words)"
      ],
      "id": "43204883",
      "execution_count": null,
      "outputs": [
        {
          "name": "stdout",
          "output_type": "stream",
          "text": [
            "['스미다젤라또', '스미다', '젤라또', 'gelato', '감성', '좋아요', '세종대카페', '군자역', '중곡동', '디저트', '이웃', '동네', '카페', '맛집', '추천', '냠냠', '행복', '쬑오', '군자카페', '군자맛집', '군자디저트', '중곡동카페', '군자추천', '중곡동맛집', '어린이대공원', 'sejonguniv', 'sejonguniversity', '대학교', '대학', '세온', '세종대학교온라인홍보기자단', '온라인홍보기자', 'seon', 'SEON', '홍보모델', '세모', '홍보기자', '홍보', 'GMT', '대동무예스쿨', '우슈', '태권도', '합기도', '호신술', '합기유권술', '세계태권도선교협회', '비전팀', '대한우슈협회', '대한태극권연맹', '합기유권술전통술기보존회', 'GMT대동무예스쿨봉사단', '강동경찰서무도교관', 'GreatMasterTeam', 'Daedongmartialartsschool', 'Wushu', 'Taekwondo', 'Hapkido', 'selfdefensemartialart', 'Hapkiyukwonsul', 'WorldTaekwondoMission', 'VisionTeam', 'KoreaWushuAssociation', 'KoreaTaijiquanFederation', 'KBSsportcollege', 'martialarts', 'SejongUniversity', 'HapkidoInstructorAtGangdongPoliceStation']\n"
          ]
        }
      ]
    },
    {
      "cell_type": "code",
      "metadata": {
        "id": "9ab228a5",
        "outputId": "78167ecb-cf32-4ecd-c81e-4824fa544a73"
      },
      "source": [
        "# collections 패키지로부터 단어의 출현 횟수 \n",
        "\n",
        "from collections import Counter\n",
        "\n",
        "count = Counter(instagram_tags_stop_words)\n",
        "\n",
        "print(count)"
      ],
      "id": "9ab228a5",
      "execution_count": null,
      "outputs": [
        {
          "name": "stdout",
          "output_type": "stream",
          "text": [
            "Counter({'스미다젤라또': 1, '스미다': 1, '젤라또': 1, 'gelato': 1, '감성': 1, '좋아요': 1, '세종대카페': 1, '군자역': 1, '중곡동': 1, '디저트': 1, '이웃': 1, '동네': 1, '카페': 1, '맛집': 1, '추천': 1, '냠냠': 1, '행복': 1, '쬑오': 1, '군자카페': 1, '군자맛집': 1, '군자디저트': 1, '중곡동카페': 1, '군자추천': 1, '중곡동맛집': 1, '어린이대공원': 1, 'sejonguniv': 1, 'sejonguniversity': 1, '대학교': 1, '대학': 1, '세온': 1, '세종대학교온라인홍보기자단': 1, '온라인홍보기자': 1, 'seon': 1, 'SEON': 1, '홍보모델': 1, '세모': 1, '홍보기자': 1, '홍보': 1, 'GMT': 1, '대동무예스쿨': 1, '우슈': 1, '태권도': 1, '합기도': 1, '호신술': 1, '합기유권술': 1, '세계태권도선교협회': 1, '비전팀': 1, '대한우슈협회': 1, '대한태극권연맹': 1, '합기유권술전통술기보존회': 1, 'GMT대동무예스쿨봉사단': 1, '강동경찰서무도교관': 1, 'GreatMasterTeam': 1, 'Daedongmartialartsschool': 1, 'Wushu': 1, 'Taekwondo': 1, 'Hapkido': 1, 'selfdefensemartialart': 1, 'Hapkiyukwonsul': 1, 'WorldTaekwondoMission': 1, 'VisionTeam': 1, 'KoreaWushuAssociation': 1, 'KoreaTaijiquanFederation': 1, 'KBSsportcollege': 1, 'martialarts': 1, 'SejongUniversity': 1, 'HapkidoInstructorAtGangdongPoliceStation': 1})\n"
          ]
        }
      ]
    },
    {
      "cell_type": "code",
      "metadata": {
        "id": "e42f762c",
        "outputId": "8d785754-9984-4d39-c56a-f72ab69cc1b3"
      },
      "source": [
        "!pip install stylecloud"
      ],
      "id": "e42f762c",
      "execution_count": null,
      "outputs": [
        {
          "name": "stdout",
          "output_type": "stream",
          "text": [
            "Requirement already satisfied: stylecloud in c:\\users\\sdw19\\anaconda3\\lib\\site-packages (0.5.2)\n",
            "Requirement already satisfied: palettable in c:\\users\\sdw19\\anaconda3\\lib\\site-packages (from stylecloud) (3.3.0)\n",
            "Requirement already satisfied: icon-font-to-png in c:\\users\\sdw19\\anaconda3\\lib\\site-packages (from stylecloud) (0.4.1)\n",
            "Requirement already satisfied: wordcloud in c:\\users\\sdw19\\anaconda3\\lib\\site-packages (from stylecloud) (1.8.1)\n",
            "Requirement already satisfied: fire in c:\\users\\sdw19\\anaconda3\\lib\\site-packages (from stylecloud) (0.4.0)\n",
            "Requirement already satisfied: matplotlib in c:\\users\\sdw19\\anaconda3\\lib\\site-packages (from stylecloud) (3.3.4)\n",
            "Requirement already satisfied: six in c:\\users\\sdw19\\anaconda3\\lib\\site-packages (from fire->stylecloud) (1.15.0)\n",
            "Requirement already satisfied: termcolor in c:\\users\\sdw19\\anaconda3\\lib\\site-packages (from fire->stylecloud) (1.1.0)\n",
            "Requirement already satisfied: requests>=2.12.5 in c:\\users\\sdw19\\anaconda3\\lib\\site-packages (from icon-font-to-png->stylecloud) (2.25.1)\n",
            "Requirement already satisfied: tinycss>=0.4 in c:\\users\\sdw19\\anaconda3\\lib\\site-packages (from icon-font-to-png->stylecloud) (0.4)\n",
            "Requirement already satisfied: Pillow>=4.0.0 in c:\\users\\sdw19\\anaconda3\\lib\\site-packages (from icon-font-to-png->stylecloud) (8.2.0)\n",
            "Requirement already satisfied: urllib3<1.27,>=1.21.1 in c:\\users\\sdw19\\anaconda3\\lib\\site-packages (from requests>=2.12.5->icon-font-to-png->stylecloud) (1.26.4)\n",
            "Requirement already satisfied: idna<3,>=2.5 in c:\\users\\sdw19\\anaconda3\\lib\\site-packages (from requests>=2.12.5->icon-font-to-png->stylecloud) (2.10)\n",
            "Requirement already satisfied: chardet<5,>=3.0.2 in c:\\users\\sdw19\\anaconda3\\lib\\site-packages (from requests>=2.12.5->icon-font-to-png->stylecloud) (4.0.0)\n",
            "Requirement already satisfied: certifi>=2017.4.17 in c:\\users\\sdw19\\anaconda3\\lib\\site-packages (from requests>=2.12.5->icon-font-to-png->stylecloud) (2020.12.5)\n",
            "Requirement already satisfied: python-dateutil>=2.1 in c:\\users\\sdw19\\anaconda3\\lib\\site-packages (from matplotlib->stylecloud) (2.8.1)\n",
            "Requirement already satisfied: kiwisolver>=1.0.1 in c:\\users\\sdw19\\anaconda3\\lib\\site-packages (from matplotlib->stylecloud) (1.3.1)\n",
            "Requirement already satisfied: numpy>=1.15 in c:\\users\\sdw19\\anaconda3\\lib\\site-packages (from matplotlib->stylecloud) (1.20.1)\n",
            "Requirement already satisfied: pyparsing!=2.0.4,!=2.1.2,!=2.1.6,>=2.0.3 in c:\\users\\sdw19\\anaconda3\\lib\\site-packages (from matplotlib->stylecloud) (2.4.7)\n",
            "Requirement already satisfied: cycler>=0.10 in c:\\users\\sdw19\\anaconda3\\lib\\site-packages (from matplotlib->stylecloud) (0.10.0)\n"
          ]
        }
      ]
    },
    {
      "cell_type": "code",
      "metadata": {
        "id": "0e68a6a2"
      },
      "source": [
        "# 워드클라우드(스타일 클라우드)\n",
        "# https://towardsdatascience.com/generate-modern-stylish-wordcloud-with-stylecloud-9cbb059696d2\n",
        "\n",
        "# Colorbrewer : Diverging\n",
        "# https://jiffyclub.github.io/palettable/colorbrewer/diverging/#spectral_11\n",
        "\n",
        "# [python] style cloud 설정\n",
        "# https://ngio.co.kr/9345\n",
        "\n",
        "import stylecloud\n",
        "\n",
        "stylecloud.gen_stylecloud(text = count,\n",
        "                          output_name = f'./{file_name}.png',\n",
        "                          font_path = \"c:/Windows/fonts/batang.ttc\",\n",
        "                          icon_name = \"fas fa-dog\",\n",
        "                          palette = \"colorbrewer.diverging.Spectral_11\",\n",
        "                          background_color = 'black',\n",
        "                          gradient = 'horizontal')"
      ],
      "id": "0e68a6a2",
      "execution_count": null,
      "outputs": []
    },
    {
      "cell_type": "markdown",
      "metadata": {
        "id": "f18f079f"
      },
      "source": [
        "### 인스타그램 사진 크롤링"
      ],
      "id": "f18f079f"
    },
    {
      "cell_type": "code",
      "metadata": {
        "scrolled": false,
        "id": "b8baea6d"
      },
      "source": [
        "from urllib.request import urlopen\n",
        "from urllib.parse import quote_plus as qp\n",
        "from bs4 import BeautifulSoup\n",
        "from selenium import webdriver\n",
        "import time\n",
        "import requests\n",
        "import shutil\n",
        "from selenium import webdriver\n",
        "import chromedriver_autoinstaller"
      ],
      "id": "b8baea6d",
      "execution_count": null,
      "outputs": []
    },
    {
      "cell_type": "code",
      "metadata": {
        "id": "85a057ab"
      },
      "source": [
        "chrome_ver = chromedriver_autoinstaller.get_chrome_version().split('.')[0]  #크롬드라이버 버전 확인\n",
        "\n",
        "try:\n",
        "    driver = webdriver.Chrome(f'./{chrome_ver}/chromedriver.exe')   \n",
        "except:\n",
        "    chromedriver_autoinstaller.install(True)\n",
        "    driver = webdriver.Chrome(f'./{chrome_ver}/chromedriver.exe')\n",
        "\n",
        "driver.get('https://www.instagram.com/')"
      ],
      "id": "85a057ab",
      "execution_count": null,
      "outputs": []
    },
    {
      "cell_type": "code",
      "metadata": {
        "id": "d6f7ed6f",
        "outputId": "c7ebac0a-a4ed-4c28-ec76-6300e825eab0"
      },
      "source": [
        "# 인스타그램 홈페이지 로그인\n",
        "\n",
        "# 아이디 : sdw1904@naver.com\n",
        "username = input('인스타그램 아이디를 입력하세요 : ')\n",
        "\n",
        "# 패스워드 : dwShin1004@@\n",
        "password = input('인스타그램 비밀번호를 입력하세요 : ')\n",
        "\n",
        "elem_login = driver.find_element_by_name(\"username\") # 인스타그램 홈페이지의 로그인 영역\n",
        "elem_password = driver.find_element_by_name(\"password\") # 인스타그램 홈페이지의 패스워드 영역\n",
        "\n",
        "elem_login.clear()\n",
        "elem_password.clear()\n",
        "\n",
        "elem_login.send_keys(username)\n",
        "elem_password.send_keys(password)\n",
        "\n",
        "# 로그인 버튼 누르기 (xpath)\n",
        "elem_login_xpath = driver.find_element_by_xpath('//*[@id=\"loginForm\"]/div/div[3]/button')\n",
        "elem_login_xpath.click()\n",
        "\n",
        "time.sleep(3)"
      ],
      "id": "d6f7ed6f",
      "execution_count": null,
      "outputs": [
        {
          "name": "stdout",
          "output_type": "stream",
          "text": [
            "인스타그램 아이디를 입력하세요 : sdw1904@naver.com\n",
            "인스타그램 비밀번호를 입력하세요 : dwShin1004@@\n"
          ]
        }
      ]
    },
    {
      "cell_type": "code",
      "metadata": {
        "id": "b6fd2d9f",
        "outputId": "3869b630-c57d-4cbb-93ba-a1953805ec67"
      },
      "source": [
        "import urllib \n",
        "from urllib.parse import quote_plus \n",
        "from urllib.parse import unquote_plus\n",
        "\n",
        "# 변수 url 에 저장될 url 형식은 아래와 같다.\n",
        "# https://www.instagram.com/explore/tags/%EC%95%84%EC%9D%B4%EC%9C%A0/\n",
        "\n",
        "# baseUrl은 검색하기 전의 베이스가 되는 url이다.\n",
        "baseUrl = 'https://www.instagram.com/explore/tags/'\n",
        "\n",
        "#plusUrl은 input으로 검색어를 받아서 아래에서 baseUrl에 추가되는 url이다.\n",
        "plusUrl = input('검색할 태그를 입력하세요 : ')\n",
        "\n",
        "#plusUrl로 받아온 검색어를 quote_plus 모듈로 아스키 코드로 변환시킨 뒤, url에 저장시킨다.\n",
        "url = baseUrl + quote_plus(plusUrl)\n",
        "\n",
        "# 인스타그램의 페이지 소스를 보면 대부분 JavaScript다. 그래서 selenium 의 webdriver 가 필요하다.\n",
        "# beautifulSoup로 JavaScript로 되어있는 사이트는 크롤링 할 수 없다.\n",
        "\n",
        "driver.get(url) # 드라이버를 띄운다. (크롬 웹 페이지를 연다.)\n",
        "\n",
        "# selenium 은 기본적으로 느리다.\n",
        "# 만약 속도가 매우 느리다면 사진이 하나하나씩 뜨는 경우가 생길 수 있으므로 사진이 다 뜨기 전에\n",
        "# 창이 닫히는 경우를 방지하기 위해 드라이버를 띄우고 나서 3초를 기다려 준다.\n",
        "# 여기서 3초를 기다린 다음에 아래에서 페이지 소스(이미지)들을 불러오기 시작한다.\n",
        "time.sleep(3)\n",
        "\n",
        "html = driver.page_source\n",
        "soup = BeautifulSoup(html)\n",
        "\n",
        "# select는 페이지에 있는 정보를 다 가져 온다.\n",
        "# 클래스가 여러 개면 기존 클래스의 공백을 없애고 .으로 연결시켜 주어야 한다.\n",
        "insta = soup.select('.v1Nh3.kIKUG._bz0w')\n",
        "\n",
        "n = 1\n",
        "\n",
        "# 이미지 하나만 가져올 게 아니라 여러 개를 가져올 것이므로 반복문을 쓴다.\n",
        "for i in insta:\n",
        "    \n",
        "    # 인스타 주소에 i번 째의 a태그의 href 속성을 더하여 출력한다.\n",
        "    print('https://www.instagram.com' + i.a['href'])\n",
        "    \n",
        "    # 인스타 페이지 소스에서 이미지에 해당하는 클래스의 이미지 태그의 src 속성을 imgUrl에 저장한다.\n",
        "    imgUrl = i.select_one('.KL4Bh').img['src']\n",
        "    \n",
        "    with urlopen(imgUrl) as f:\n",
        "        \n",
        "        # img라는 폴더 안에 programmer(n).jpg 파일을 저장한다.\n",
        "        # 텍스트 파일이 아니기 때문에 w(write)만 쓰면 안되고 binary 모드를 추가시켜야 한다.\n",
        "        with open('./img/' + plusUrl + str(n) + '.jpg', \"wb\") as h:\n",
        "            # f를 읽고 img에 저장한다.\n",
        "            img = f.read()\n",
        "            \n",
        "            # h에 위 내용을 쓴다.\n",
        "            h.write(img)\n",
        "            \n",
        "    # 계속 programmer 1에 덮어쓰지 않도록 1을 증가시켜 준다\n",
        "    n = n + 1 \n",
        "    print(imgUrl)\n",
        "    \n",
        "    # 출력한 걸 보았을 때 구분하기 좋도록 빈 줄을 추가시킨다.\n",
        "    print()\n",
        "# 마지막에 driver를 닫아준다. (열린 창을 닫는다.)     \n",
        "# driver.close()\n",
        "    \n",
        "# 우리가 인스타 페이지에 들어가서 스크롤 하기 전까지 보여진 사진 개수가 img 폴더에 저장된다.\n",
        "\n",
        "# sns의 경우는 스크롤 기능이 빈번하기 때문에 JavaScript로 되어있는 경우가 많다.\n",
        "\n",
        "# JavaScript 로 되어있는 사이트를 크롤링하려면 selenium 이 유용하다.\n",
        "\n",
        "# 하지만 selenium은 속도가 느리기 때문에 JavaScript로 되어있는 사이트가 아닌 경우라면\n",
        "# beautifulSoup 가 더 선호된다.\n",
        "\n",
        "# 대신 터미널에서 어떤 내용이 진행되고 있는지 눈으로 보고 싶다면 selenium 을 쓰면 좋다. "
      ],
      "id": "b6fd2d9f",
      "execution_count": null,
      "outputs": [
        {
          "name": "stdout",
          "output_type": "stream",
          "text": [
            "검색할 태그를 입력하세요 : 에스파\n"
          ]
        }
      ]
    },
    {
      "cell_type": "code",
      "metadata": {
        "id": "af006259",
        "outputId": "6d408e3e-676f-415b-c44f-ac895440f57f"
      },
      "source": [
        "# 참고 사이트\n",
        "# https://kibua20.tistory.com/159\n",
        "\n",
        "import urllib \n",
        "from urllib.parse import quote_plus \n",
        "from urllib.parse import unquote_plus\n",
        "\n",
        "baseurl = 'https://www.instagram.com/explore/tags/'\n",
        "plusurl = input('검색할 태그를 입력하세요 : ')\n",
        "url = baseurl + unquote_plus(plusurl) # 입력한 언어를 아스키코드로 변환\n",
        "print(url)"
      ],
      "id": "af006259",
      "execution_count": null,
      "outputs": [
        {
          "name": "stdout",
          "output_type": "stream",
          "text": [
            "검색할 태그를 입력하세요 : 에스파\n",
            "https://www.instagram.com/explore/tags/에스파\n"
          ]
        }
      ]
    },
    {
      "cell_type": "code",
      "metadata": {
        "id": "b9511209"
      },
      "source": [
        "driver.get(url)\n",
        "time.sleep(3)\n",
        "html = driver.page_source\n",
        "soup = BeautifulSoup(html)"
      ],
      "id": "b9511209",
      "execution_count": null,
      "outputs": []
    },
    {
      "cell_type": "code",
      "metadata": {
        "id": "b3758ce9"
      },
      "source": [
        "insta = soup.select('.v1Nh3.kIKUG._bz0w')\n",
        "\n",
        "n=1\n",
        "for i in insta : \n",
        "    print('https://www.instagram.com'+i.a['href']) #누르면 나오는 주소\n",
        "    imgUrl = i.select_one('.KL4Bh').img['src'] #이미지가 들어있는 태그의 실질적 img\n",
        "    with urlopen(imgUrl) as f:\n",
        "        with open(search+str(n)+'.jpg','wb') as h :\n",
        "            img = f.read()\n",
        "            h.write(img)\n",
        "    n += 1\n",
        "    print(imgUrl) \n",
        "    print()  "
      ],
      "id": "b3758ce9",
      "execution_count": null,
      "outputs": []
    },
    {
      "cell_type": "code",
      "metadata": {
        "id": "d19e7892",
        "outputId": "c569386a-bbec-4e66-fd70-c8d32c69b7d0"
      },
      "source": [
        "import urllib.request\n",
        "from urllib import parse\n",
        "from urllib.request import urlopen\n",
        "from bs4 import BeautifulSoup\n",
        "from selenium import webdriver\n",
        "import time\n",
        "import ssl\n",
        "\n",
        "context = ssl._create_unverified_context()\n",
        "\n",
        "search=input(\"input Hashtag ## : \")\n",
        "url = \"https://www.instagram.com/explore/tags/\"\n",
        "newUrl = url+parse.quote_plus(search)\n",
        "\n",
        "driver.get(newUrl)\n",
        "\n",
        "time.sleep(3) #여기서 3초를 기다린 다음에 아래꺼를 실행\n",
        "\n",
        "html = driver.page_source #driver의 페이지 소스를 가져와서 html 에 담음\n",
        "soup =BeautifulSoup(html) \n",
        "\n",
        "insta = soup.select('.v1Nh3.kIKUG._bz0w') #이미지 파일이 들어있는 클래스(.으로 구분해준다)\n",
        "\n",
        "n=1\n",
        "for i in insta : \n",
        "    print('https://www.instagram.com'+i.a['href']) #누르면 나오는 주소\n",
        "    imgUrl = i.select_one('.KL4Bh').img['src'] #이미지가 들어있는 태그의 실질적 img\n",
        "    with urlopen(imgUrl) as f:\n",
        "        with open(search+str(n)+'.jpg','wb') as h :\n",
        "            img = f.read()\n",
        "            h.write(img)\n",
        "    n += 1\n",
        "    print(imgUrl) \n",
        "    print()       \n",
        "\n",
        "\n",
        "driver.close()\n",
        "time.sleep(1)\n",
        "print(\"End\")"
      ],
      "id": "d19e7892",
      "execution_count": null,
      "outputs": [
        {
          "name": "stdout",
          "output_type": "stream",
          "text": [
            "input Hashtag ## : 에스파\n",
            "End\n"
          ]
        }
      ]
    },
    {
      "cell_type": "code",
      "metadata": {
        "id": "dca79bc1"
      },
      "source": [
        "from selenium import webdriver\n",
        "from selenium.webdriver.common.keys import Keys\n",
        "\n",
        "from selenium.webdriver.common.by import By\n",
        "from selenium.webdriver.support.ui import WebDriverWait\n",
        "from selenium.webdriver.support import expected_conditions as EC\n",
        "\n",
        "from getpass import getpass\n",
        "import time, os\n",
        "\n",
        "import urllib.request"
      ],
      "id": "dca79bc1",
      "execution_count": null,
      "outputs": []
    },
    {
      "cell_type": "code",
      "metadata": {
        "id": "aabb07ca",
        "outputId": "836fca17-54e7-41bc-8bbf-0c524c1907c9"
      },
      "source": [
        "# 크롬 브라우저 버전에 따라 스스로 크롬드라이버를 다운로드해서 가져오기\n",
        "# 라이브러리 불러오기\n",
        "import chromedriver_autoinstaller\n",
        "from selenium import webdriver\n",
        "\n",
        "# 크롬 드라이버 버전 확인\n",
        "# chrome_ver = chromedriver_autoinstaller.get_chrome_version()\n",
        "# print(chrome_ver)\n",
        "\n",
        "chrome_ver = chromedriver_autoinstaller.get_chrome_version().split('.')[0]\n",
        "print(chrome_ver)\n",
        "\n",
        "# 브라우저 열기\n",
        "try:\n",
        "    driver = webdriver.Chrome(f'./{chrome_ver}/chromedriver.exe')\n",
        "except:\n",
        "    chromedriver_autoinstaller.install(True)\n",
        "    driver = webdriver.Chrome(f'./{chrome_ver}/chromedriver.exe')\n",
        "\n",
        "driver.implicitly_wait(10)\n",
        "# ----------------------------------------------------------------------------------\n",
        "# 실행결과 : 실행하면 빈 브라우저가 열립니다.\n",
        "# ----------------------------------------------------------------------------------"
      ],
      "id": "aabb07ca",
      "execution_count": null,
      "outputs": [
        {
          "name": "stdout",
          "output_type": "stream",
          "text": [
            "95\n"
          ]
        }
      ]
    },
    {
      "cell_type": "code",
      "metadata": {
        "id": "afbe8a68"
      },
      "source": [
        "def login(ID, PW):    \n",
        "    #### 로그인하는 함수 ###\n",
        "    \n",
        "    # 로그인 하는 코드\n",
        "    driver.get(\"https://instagram.com/\") # 주소로 이동하라는 것 get\n",
        "    username = WebDriverWait(driver, 20).until(EC.visibility_of_element_located((By.NAME, \"username\")))\n",
        "    username.send_keys(ID)\n",
        "    password = WebDriverWait(driver, 20).until(EC.visibility_of_element_located((By.NAME, \"password\")))\n",
        "    password.send_keys(PW)\n",
        "    password.send_keys(Keys.ENTER)\n",
        "\n",
        "    # 나중에 하기 누르는 코드\n",
        "    \n",
        "    WebDriverWait(driver, 20).until(EC.visibility_of_element_located((By.XPATH, '//button[text()=\"나중에 하기\"]/..'))).click()\n",
        "    WebDriverWait(driver, 20).until(EC.visibility_of_element_located((By.CLASS_NAME, \"HoLwm\"))).click()\n",
        "    print(\"로그인완료\")\n",
        "\n",
        "    return driver\n",
        "\n",
        "\n",
        "def find_tag(driver, TagName):\n",
        "    ##태그를 검색하는 코드##\n",
        "    driver.get(f\"https://www.instagram.com/explore/tags/{TagName}/\") # 주소로 이동하라는 것 get\n",
        "\n",
        "\n",
        "def get_posturl(driver,scroll_num=1):\n",
        "    # 각 포스트의 ULR주소 수집하는 함수\n",
        "\n",
        "    #scroll_num은 스크롤 내리는 동작을 몇번 할건지       \n",
        "    url_list = []\n",
        "    for i in range(scroll_num):\n",
        "        elems=driver.find_elements_by_xpath('//*[contains(@href, \"/p/\")]')\n",
        "\n",
        "        for elem in elems:          \n",
        "            url_list.append(elem.get_attribute(\"href\"))    \n",
        "\n",
        "        driver.execute_script(\"window.scrollTo(0,document.body.scrollHeight)\")  # 스크롤 내리는 동작\n",
        "        time.sleep(4) # 스크롤 내리고 로딩하는 시간\n",
        "\n",
        "    url_list = list(set(url_list)) # 중복 URL 제거\n",
        "    \n",
        "    return url_list\n",
        "\n",
        "def get_imgurl(driver,url):\n",
        "    # get_posturl 함수로 얻은 포스트 주소에 접근하여 각 이미지의 주소를 수집하는 함수\n",
        "\n",
        "    driver.get(url)\n",
        "    time.sleep(3)\n",
        "    photo_list = []\n",
        "    \n",
        "    #옆으로 가기 누르면서 주소 수집 하는 부분\n",
        "    try:\n",
        "        # 12번 옆으로 가기 누른다는 뜻 일부러 에러를 내서 이 기능에서 탈출\n",
        "        for i in range(11):              \n",
        "\n",
        "            # 이미지 주소가 있는 엘리먼트 찾는 부분              \n",
        "            elems = WebDriverWait(driver, 10).until(EC.visibility_of_all_elements_located((By.XPATH, \"//div[@class='KL4Bh' and @style]/img[contains(@src,1080) or contains(@alt,'Photo') or contains(@src,'scontent')]\"))) \n",
        "            for elem in elems:\n",
        "                photo_list.append(elem.get_attribute(\"src\"))\n",
        "     \n",
        "            # 옆으로 가는 거 클릭               \n",
        "            driver.find_element_by_xpath(\"//button[contains(@class, '6CZ')]/div\").click()     \n",
        "            print(f'{i+1}번째 옆으로가기')        \n",
        "      \n",
        "    except:        \n",
        "        photo_list = list(set(photo_list)) \n",
        "        print(f'현재 포스트에서 {len(photo_list)}개의 사진주소 수집')      \n",
        "        if len(photo_list)==0:\n",
        "            print(url)    \n",
        "        return photo_list\n",
        "\n",
        "\n",
        "def save_photo(driver, url_list,folder='photo',filename='a'):\n",
        "    # 이미지 저장하는 함수\n",
        "    photo_list=[]\n",
        "\n",
        "    #photo_list의 각 포스트에 있는 이미지의 주소를 리스트 형태로 저장함\n",
        "    print(\"이미지 주소 수집 시작\")\n",
        "    for url in url_list:\n",
        "        photo_list += get_imgurl(driver,url)\n",
        "    print(\"이미지 주소 수집 끝\")\n",
        "\n",
        "    # 저장할 폴더 생성\n",
        "    if not os.path.exists(folder):\n",
        "        print(\"저장 폴더 생성\")\n",
        "        os.mkdir(folder)\n",
        "\n",
        "    #photo_list에 있는 이미지 주소를 저장하는 구간\n",
        "    print(\"이미지 저장 시작\")\n",
        "    for i, photo in enumerate(photo_list):  \n",
        "        if photo != None:   #주소가 수집이 안될경우 에러 발생 방지     \n",
        "            urllib.request.urlretrieve(photo,f'./{folder}/{filename}{i+1}.jpg')  #  여기서 에러 발생, 주소가 수집이 되지 않아 에러 발생함 \n",
        "        else:                \n",
        "            pass\n",
        "    print(f\"{len(photo_list)}개 사진저장 끝\")"
      ],
      "id": "afbe8a68",
      "execution_count": null,
      "outputs": []
    },
    {
      "cell_type": "code",
      "metadata": {
        "id": "be0adeac",
        "outputId": "2eb02458-f80c-4309-d4cb-8a0e1d360241"
      },
      "source": [
        "if __name__ == \"__main__\":\n",
        "    # 인스타그램 아이디/비번\n",
        "    # ID :  sdw1904@naver.com\n",
        "    # PW : dwShin1004@@\n",
        "    ID = input(\"아이디를 입력해주세요: \")\n",
        "    pw = getpass(\"비밀번호를 입력후 엔터: \")\n",
        "\n",
        "    driver = login(ID, pw)\n",
        "\n",
        "    # 세종사이버대맛집\n",
        "    tag = input(\"검색할 태그를 입력해주세요: \")\n",
        "    find_tag(driver, tag)\n",
        "\n",
        "    url_list = get_posturl(driver,scroll_num=2)\n",
        "    save_photo(driver,url_list=url_list,folder=tag,filename=tag)\n",
        "\n",
        "    driver.quit()"
      ],
      "id": "be0adeac",
      "execution_count": null,
      "outputs": [
        {
          "name": "stdout",
          "output_type": "stream",
          "text": [
            "아이디를 입력해주세요: sdw1904@naver.com\n",
            "비밀번호를 입력후 엔터: ········\n",
            "로그인완료\n",
            "검색할 태그를 입력해주세요: 에스파\n",
            "이미지 주소 수집 시작\n",
            "현재 포스트에서 0개의 사진주소 수집\n",
            "https://www.instagram.com/p/CVxFVEgpNCZ/\n",
            "현재 포스트에서 1개의 사진주소 수집\n",
            "현재 포스트에서 1개의 사진주소 수집\n",
            "현재 포스트에서 1개의 사진주소 수집\n",
            "현재 포스트에서 1개의 사진주소 수집\n",
            "현재 포스트에서 1개의 사진주소 수집\n",
            "1번째 옆으로가기\n",
            "2번째 옆으로가기\n",
            "3번째 옆으로가기\n",
            "4번째 옆으로가기\n",
            "5번째 옆으로가기\n",
            "6번째 옆으로가기\n",
            "7번째 옆으로가기\n",
            "현재 포스트에서 8개의 사진주소 수집\n",
            "1번째 옆으로가기\n",
            "2번째 옆으로가기\n",
            "현재 포스트에서 3개의 사진주소 수집\n",
            "1번째 옆으로가기\n",
            "2번째 옆으로가기\n",
            "3번째 옆으로가기\n",
            "현재 포스트에서 4개의 사진주소 수집\n",
            "1번째 옆으로가기\n",
            "2번째 옆으로가기\n",
            "3번째 옆으로가기\n",
            "4번째 옆으로가기\n",
            "5번째 옆으로가기\n",
            "6번째 옆으로가기\n",
            "7번째 옆으로가기\n",
            "8번째 옆으로가기\n",
            "9번째 옆으로가기\n",
            "현재 포스트에서 10개의 사진주소 수집\n",
            "1번째 옆으로가기\n",
            "2번째 옆으로가기\n",
            "3번째 옆으로가기\n",
            "4번째 옆으로가기\n",
            "5번째 옆으로가기\n",
            "6번째 옆으로가기\n",
            "7번째 옆으로가기\n",
            "8번째 옆으로가기\n",
            "9번째 옆으로가기\n",
            "현재 포스트에서 10개의 사진주소 수집\n",
            "1번째 옆으로가기\n",
            "현재 포스트에서 2개의 사진주소 수집\n",
            "현재 포스트에서 0개의 사진주소 수집\n",
            "https://www.instagram.com/p/CVxERj1FqUQ/\n",
            "1번째 옆으로가기\n",
            "2번째 옆으로가기\n",
            "현재 포스트에서 2개의 사진주소 수집\n",
            "현재 포스트에서 1개의 사진주소 수집\n",
            "현재 포스트에서 0개의 사진주소 수집\n",
            "https://www.instagram.com/p/CVxFjyCAVKM/\n",
            "현재 포스트에서 1개의 사진주소 수집\n"
          ]
        },
        {
          "ename": "WebDriverException",
          "evalue": "Message: chrome not reachable\n  (Session info: chrome=95.0.4638.69)\n",
          "output_type": "error",
          "traceback": [
            "\u001b[1;31m---------------------------------------------------------------------------\u001b[0m",
            "\u001b[1;31mWebDriverException\u001b[0m                        Traceback (most recent call last)",
            "\u001b[1;32m<ipython-input-110-300580d9f903>\u001b[0m in \u001b[0;36m<module>\u001b[1;34m\u001b[0m\n\u001b[0;32m     13\u001b[0m \u001b[1;33m\u001b[0m\u001b[0m\n\u001b[0;32m     14\u001b[0m     \u001b[0murl_list\u001b[0m \u001b[1;33m=\u001b[0m \u001b[0mget_posturl\u001b[0m\u001b[1;33m(\u001b[0m\u001b[0mdriver\u001b[0m\u001b[1;33m,\u001b[0m\u001b[0mscroll_num\u001b[0m\u001b[1;33m=\u001b[0m\u001b[1;36m2\u001b[0m\u001b[1;33m)\u001b[0m\u001b[1;33m\u001b[0m\u001b[1;33m\u001b[0m\u001b[0m\n\u001b[1;32m---> 15\u001b[1;33m     \u001b[0msave_photo\u001b[0m\u001b[1;33m(\u001b[0m\u001b[0mdriver\u001b[0m\u001b[1;33m,\u001b[0m\u001b[0murl_list\u001b[0m\u001b[1;33m=\u001b[0m\u001b[0murl_list\u001b[0m\u001b[1;33m,\u001b[0m\u001b[0mfolder\u001b[0m\u001b[1;33m=\u001b[0m\u001b[0mtag\u001b[0m\u001b[1;33m,\u001b[0m\u001b[0mfilename\u001b[0m\u001b[1;33m=\u001b[0m\u001b[0mtag\u001b[0m\u001b[1;33m)\u001b[0m\u001b[1;33m\u001b[0m\u001b[1;33m\u001b[0m\u001b[0m\n\u001b[0m\u001b[0;32m     16\u001b[0m \u001b[1;33m\u001b[0m\u001b[0m\n\u001b[0;32m     17\u001b[0m     \u001b[0mdriver\u001b[0m\u001b[1;33m.\u001b[0m\u001b[0mquit\u001b[0m\u001b[1;33m(\u001b[0m\u001b[1;33m)\u001b[0m\u001b[1;33m\u001b[0m\u001b[1;33m\u001b[0m\u001b[0m\n",
            "\u001b[1;32m<ipython-input-109-0fba2be1d78c>\u001b[0m in \u001b[0;36msave_photo\u001b[1;34m(driver, url_list, folder, filename)\u001b[0m\n\u001b[0;32m     78\u001b[0m     \u001b[0mprint\u001b[0m\u001b[1;33m(\u001b[0m\u001b[1;34m\"이미지 주소 수집 시작\"\u001b[0m\u001b[1;33m)\u001b[0m\u001b[1;33m\u001b[0m\u001b[1;33m\u001b[0m\u001b[0m\n\u001b[0;32m     79\u001b[0m     \u001b[1;32mfor\u001b[0m \u001b[0murl\u001b[0m \u001b[1;32min\u001b[0m \u001b[0murl_list\u001b[0m\u001b[1;33m:\u001b[0m\u001b[1;33m\u001b[0m\u001b[1;33m\u001b[0m\u001b[0m\n\u001b[1;32m---> 80\u001b[1;33m         \u001b[0mphoto_list\u001b[0m \u001b[1;33m+=\u001b[0m \u001b[0mget_imgurl\u001b[0m\u001b[1;33m(\u001b[0m\u001b[0mdriver\u001b[0m\u001b[1;33m,\u001b[0m\u001b[0murl\u001b[0m\u001b[1;33m)\u001b[0m\u001b[1;33m\u001b[0m\u001b[1;33m\u001b[0m\u001b[0m\n\u001b[0m\u001b[0;32m     81\u001b[0m     \u001b[0mprint\u001b[0m\u001b[1;33m(\u001b[0m\u001b[1;34m\"이미지 주소 수집 끝\"\u001b[0m\u001b[1;33m)\u001b[0m\u001b[1;33m\u001b[0m\u001b[1;33m\u001b[0m\u001b[0m\n\u001b[0;32m     82\u001b[0m \u001b[1;33m\u001b[0m\u001b[0m\n",
            "\u001b[1;32m<ipython-input-109-0fba2be1d78c>\u001b[0m in \u001b[0;36mget_imgurl\u001b[1;34m(driver, url)\u001b[0m\n\u001b[0;32m     45\u001b[0m     \u001b[1;31m# get_posturl 함수로 얻은 포스트 주소에 접근하여 각 이미지의 주소를 수집하는 함수\u001b[0m\u001b[1;33m\u001b[0m\u001b[1;33m\u001b[0m\u001b[1;33m\u001b[0m\u001b[0m\n\u001b[0;32m     46\u001b[0m \u001b[1;33m\u001b[0m\u001b[0m\n\u001b[1;32m---> 47\u001b[1;33m     \u001b[0mdriver\u001b[0m\u001b[1;33m.\u001b[0m\u001b[0mget\u001b[0m\u001b[1;33m(\u001b[0m\u001b[0murl\u001b[0m\u001b[1;33m)\u001b[0m\u001b[1;33m\u001b[0m\u001b[1;33m\u001b[0m\u001b[0m\n\u001b[0m\u001b[0;32m     48\u001b[0m     \u001b[0mtime\u001b[0m\u001b[1;33m.\u001b[0m\u001b[0msleep\u001b[0m\u001b[1;33m(\u001b[0m\u001b[1;36m3\u001b[0m\u001b[1;33m)\u001b[0m\u001b[1;33m\u001b[0m\u001b[1;33m\u001b[0m\u001b[0m\n\u001b[0;32m     49\u001b[0m     \u001b[0mphoto_list\u001b[0m \u001b[1;33m=\u001b[0m \u001b[1;33m[\u001b[0m\u001b[1;33m]\u001b[0m\u001b[1;33m\u001b[0m\u001b[1;33m\u001b[0m\u001b[0m\n",
            "\u001b[1;32m~\\anaconda3\\lib\\site-packages\\selenium\\webdriver\\remote\\webdriver.py\u001b[0m in \u001b[0;36mget\u001b[1;34m(self, url)\u001b[0m\n\u001b[0;32m    331\u001b[0m         \u001b[0mLoads\u001b[0m \u001b[0ma\u001b[0m \u001b[0mweb\u001b[0m \u001b[0mpage\u001b[0m \u001b[1;32min\u001b[0m \u001b[0mthe\u001b[0m \u001b[0mcurrent\u001b[0m \u001b[0mbrowser\u001b[0m \u001b[0msession\u001b[0m\u001b[1;33m.\u001b[0m\u001b[1;33m\u001b[0m\u001b[1;33m\u001b[0m\u001b[0m\n\u001b[0;32m    332\u001b[0m         \"\"\"\n\u001b[1;32m--> 333\u001b[1;33m         \u001b[0mself\u001b[0m\u001b[1;33m.\u001b[0m\u001b[0mexecute\u001b[0m\u001b[1;33m(\u001b[0m\u001b[0mCommand\u001b[0m\u001b[1;33m.\u001b[0m\u001b[0mGET\u001b[0m\u001b[1;33m,\u001b[0m \u001b[1;33m{\u001b[0m\u001b[1;34m'url'\u001b[0m\u001b[1;33m:\u001b[0m \u001b[0murl\u001b[0m\u001b[1;33m}\u001b[0m\u001b[1;33m)\u001b[0m\u001b[1;33m\u001b[0m\u001b[1;33m\u001b[0m\u001b[0m\n\u001b[0m\u001b[0;32m    334\u001b[0m \u001b[1;33m\u001b[0m\u001b[0m\n\u001b[0;32m    335\u001b[0m     \u001b[1;33m@\u001b[0m\u001b[0mproperty\u001b[0m\u001b[1;33m\u001b[0m\u001b[1;33m\u001b[0m\u001b[0m\n",
            "\u001b[1;32m~\\anaconda3\\lib\\site-packages\\selenium\\webdriver\\remote\\webdriver.py\u001b[0m in \u001b[0;36mexecute\u001b[1;34m(self, driver_command, params)\u001b[0m\n\u001b[0;32m    319\u001b[0m         \u001b[0mresponse\u001b[0m \u001b[1;33m=\u001b[0m \u001b[0mself\u001b[0m\u001b[1;33m.\u001b[0m\u001b[0mcommand_executor\u001b[0m\u001b[1;33m.\u001b[0m\u001b[0mexecute\u001b[0m\u001b[1;33m(\u001b[0m\u001b[0mdriver_command\u001b[0m\u001b[1;33m,\u001b[0m \u001b[0mparams\u001b[0m\u001b[1;33m)\u001b[0m\u001b[1;33m\u001b[0m\u001b[1;33m\u001b[0m\u001b[0m\n\u001b[0;32m    320\u001b[0m         \u001b[1;32mif\u001b[0m \u001b[0mresponse\u001b[0m\u001b[1;33m:\u001b[0m\u001b[1;33m\u001b[0m\u001b[1;33m\u001b[0m\u001b[0m\n\u001b[1;32m--> 321\u001b[1;33m             \u001b[0mself\u001b[0m\u001b[1;33m.\u001b[0m\u001b[0merror_handler\u001b[0m\u001b[1;33m.\u001b[0m\u001b[0mcheck_response\u001b[0m\u001b[1;33m(\u001b[0m\u001b[0mresponse\u001b[0m\u001b[1;33m)\u001b[0m\u001b[1;33m\u001b[0m\u001b[1;33m\u001b[0m\u001b[0m\n\u001b[0m\u001b[0;32m    322\u001b[0m             response['value'] = self._unwrap_value(\n\u001b[0;32m    323\u001b[0m                 response.get('value', None))\n",
            "\u001b[1;32m~\\anaconda3\\lib\\site-packages\\selenium\\webdriver\\remote\\errorhandler.py\u001b[0m in \u001b[0;36mcheck_response\u001b[1;34m(self, response)\u001b[0m\n\u001b[0;32m    240\u001b[0m                 \u001b[0malert_text\u001b[0m \u001b[1;33m=\u001b[0m \u001b[0mvalue\u001b[0m\u001b[1;33m[\u001b[0m\u001b[1;34m'alert'\u001b[0m\u001b[1;33m]\u001b[0m\u001b[1;33m.\u001b[0m\u001b[0mget\u001b[0m\u001b[1;33m(\u001b[0m\u001b[1;34m'text'\u001b[0m\u001b[1;33m)\u001b[0m\u001b[1;33m\u001b[0m\u001b[1;33m\u001b[0m\u001b[0m\n\u001b[0;32m    241\u001b[0m             \u001b[1;32mraise\u001b[0m \u001b[0mexception_class\u001b[0m\u001b[1;33m(\u001b[0m\u001b[0mmessage\u001b[0m\u001b[1;33m,\u001b[0m \u001b[0mscreen\u001b[0m\u001b[1;33m,\u001b[0m \u001b[0mstacktrace\u001b[0m\u001b[1;33m,\u001b[0m \u001b[0malert_text\u001b[0m\u001b[1;33m)\u001b[0m\u001b[1;33m\u001b[0m\u001b[1;33m\u001b[0m\u001b[0m\n\u001b[1;32m--> 242\u001b[1;33m         \u001b[1;32mraise\u001b[0m \u001b[0mexception_class\u001b[0m\u001b[1;33m(\u001b[0m\u001b[0mmessage\u001b[0m\u001b[1;33m,\u001b[0m \u001b[0mscreen\u001b[0m\u001b[1;33m,\u001b[0m \u001b[0mstacktrace\u001b[0m\u001b[1;33m)\u001b[0m\u001b[1;33m\u001b[0m\u001b[1;33m\u001b[0m\u001b[0m\n\u001b[0m\u001b[0;32m    243\u001b[0m \u001b[1;33m\u001b[0m\u001b[0m\n\u001b[0;32m    244\u001b[0m     \u001b[1;32mdef\u001b[0m \u001b[0m_value_or_default\u001b[0m\u001b[1;33m(\u001b[0m\u001b[0mself\u001b[0m\u001b[1;33m,\u001b[0m \u001b[0mobj\u001b[0m\u001b[1;33m,\u001b[0m \u001b[0mkey\u001b[0m\u001b[1;33m,\u001b[0m \u001b[0mdefault\u001b[0m\u001b[1;33m)\u001b[0m\u001b[1;33m:\u001b[0m\u001b[1;33m\u001b[0m\u001b[1;33m\u001b[0m\u001b[0m\n",
            "\u001b[1;31mWebDriverException\u001b[0m: Message: chrome not reachable\n  (Session info: chrome=95.0.4638.69)\n"
          ]
        }
      ]
    },
    {
      "cell_type": "code",
      "metadata": {
        "id": "5b399c55"
      },
      "source": [
        ""
      ],
      "id": "5b399c55",
      "execution_count": null,
      "outputs": []
    }
  ]
}